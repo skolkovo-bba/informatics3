{
  "cells": [
    {
      "cell_type": "markdown",
      "metadata": {
        "id": "TkYH0UrW3xAg"
      },
      "source": [
        "# Лабораторная 7"
      ]
    },
    {
      "cell_type": "markdown",
      "metadata": {
        "id": "qnF1I3vMzk-r"
      },
      "source": [
        "## 1. Немного ТВ и scipy.stats"
      ]
    },
    {
      "cell_type": "markdown",
      "metadata": {
        "id": "2pPj1eeIzxfz"
      },
      "source": [
        "### 1.1 ***дискретные*** и ***непрерывные*** случайные величины."
      ]
    },
    {
      "cell_type": "markdown",
      "metadata": {
        "id": "0CMnKdD3mdXE"
      },
      "source": [
        "В курсе ТВ наиболее популярными являются ***дискретные*** и ***непрерывные*** случайные величины."
      ]
    },
    {
      "cell_type": "markdown",
      "metadata": {
        "id": "lHQbA3ZhrMUS"
      },
      "source": [
        "***Дискретная*** случайная величина - это случайная величина, множество значений которой конечно или счётно.\n",
        "\n",
        "***Непрерывная*** случайная величина - это случайная величина, возможные значения которой непрерывно заполняют некоторый интервал (конечный или бесконечный)."
      ]
    },
    {
      "cell_type": "markdown",
      "metadata": {
        "id": "HODjZ8-RsIFO"
      },
      "source": [
        "Распределение случайно величины $𝜉$ называется ***дискретным***, если $𝜉$ может\n",
        "принимать конечное или счётное число значений $x_1, x_2, x_3 ... $ такие, что\n",
        " * $p_k = P(𝜉 = k) > 0$\n",
        " *\n",
        " $\\sum_{k=1}p_k = 1\n",
        "$"
      ]
    },
    {
      "cell_type": "markdown",
      "metadata": {
        "id": "DA2KXkRTytDv"
      },
      "source": [
        "Непрерывные распределения задаются ***функцией распределения f(x)*** и при этом:\n",
        "*  $∀𝑥 -> 𝑓(𝑥) ≥ 0$\n",
        "* $\\int^{∞}_{-∞}{f(x)}{\\rm d}x = 1$\n"
      ]
    },
    {
      "cell_type": "markdown",
      "metadata": {
        "id": "Hz65aaIez_t7"
      },
      "source": [
        "При этом\n",
        "* ***матожидание дискретной случайной величины***: $Eξ = \\sum_{k=1}p_k x_k$\n",
        "* ***матожидание непрерывной случайной величины*** $Eξ = \\int^{∞}_{-∞}{f(x)x}{\\rm d}x$\n",
        "* ***дисперсия дискретной случайной величины***: $Dξ = \\sum_{k=1}p_k (x_k - Eξ)^2$\n",
        "* ***дисперсия непрерывной случайной величины*** $Dξ = \\int^{∞}_{-∞}{f(x)(x - Eξ)^2}{\\rm d}x$"
      ]
    },
    {
      "cell_type": "markdown",
      "metadata": {
        "id": "CzhYPULkp_Ds"
      },
      "source": [
        "Также может быть полезна формула $Dξ = Eξ^2 - (Eξ)^2$"
      ]
    },
    {
      "cell_type": "markdown",
      "metadata": {
        "id": "3YQctUF-0Iv7"
      },
      "source": [
        "Рассмотрим пример, моделирующий игральный кубик.  \n",
        "\n",
        "Пусть дана случайная величина $ξ$, принимающая следующие значения $x_1 = 1, x_2 = 2, x_3 = 3, x_4 = 4, x_5 = 5, x_6 = 6$ с вероятностями $p_1 = p_2 = p_3 = p_4 = p_5 = p_6 = \\frac{1}{6}$.\n",
        "\n",
        "Найдём $Eξ$\n",
        "\n",
        "$Eξ = x_1 p_1 + x_2 p_2 + x_3 p_3 + x_4 p_4 + x_5 p_5 +  x_6 p_6 = \\frac{1}{6} + \\frac{2}{6} + \\frac{3}{6} + \\frac{4}{6} + \\frac{5}{6} + \\frac{6}{6} = 3.5$\n",
        "\n",
        "Теперь найдём $Dξ = (1-3.5)^2 ⋅\\frac{1}{6} + (2-3.5)^2 ⋅\\frac{1}{6} + (3-3.5)^2 ⋅\\frac{1}{6} + (4-3.5)^2 ⋅\\frac{1}{6} + (5-3.5)^2 ⋅\\frac{1}{6} + (6-3.5)^2 ⋅\\frac{1}{6} = 2.92$"
      ]
    },
    {
      "cell_type": "markdown",
      "metadata": {
        "id": "lnbXyNCltmWa"
      },
      "source": [
        "### 1.2 Распределение Бернулли"
      ]
    },
    {
      "cell_type": "markdown",
      "metadata": {
        "id": "BXt5LM0Qtw3y"
      },
      "source": [
        "Случайная величина $ξ$ имеет распределение Бернулли, если она принимает всего два значения: 1 и 0 с вероятностями $p$ и $1 - p$.\n",
        "\n",
        "Ярким примером такой величины является монетка(1 - выпал орёл, 0 - решка).  \n",
        "\n",
        "При этом $Eξ = p$, а $Dξ = p(1-p)$"
      ]
    },
    {
      "cell_type": "markdown",
      "metadata": {
        "id": "rZ2R9KFf4rXX"
      },
      "source": [
        "Пусть X - некоторое распределение из ***scipy.stats***, parametrs - параметры распределения, тогда\n",
        "\n",
        "* X(parametrs).rvs(size=N) — генерация выборки размера  N\n",
        "* X(parametrs).cdf(x) — значение функции распределения в точке  x\n",
        "* X(parametrs).ppf(q) —  q-квантиль\n",
        "* X(parametrs).mean() — математическое ожидание;\n",
        "* X(parametrs).median() — медиана\n",
        "* X(parametrs).var() — дисперсия\n",
        "* для дискретной величины X(parametrs).pmf(k) - значение плотности в точке  k (вероятность, с которой случайная величина принимает значение k)\n",
        "* для непрерывной величины X(parametrs).pdf(x) - значение плотности в точке x"
      ]
    },
    {
      "cell_type": "code",
      "execution_count": 13,
      "metadata": {
        "colab": {
          "base_uri": "https://localhost:8080/"
        },
        "id": "mFIDo6rg2rDI",
        "outputId": "3c0807f4-ef33-4bc4-9752-2fd87609b353"
      },
      "outputs": [
        {
          "data": {
            "text/plain": [
              "array([0, 1, 0, 0, 1, 0, 1, 1, 1, 1, 0, 1, 1, 0, 1])"
            ]
          },
          "execution_count": 13,
          "metadata": {},
          "output_type": "execute_result"
        }
      ],
      "source": [
        "from scipy.stats import bernoulli\n",
        "b = bernoulli(p=0.3).rvs(size=15) # сгенерируем выборку размера N=15 из распределения Бернулли с параметром p = 0.3\n",
        "b"
      ]
    },
    {
      "cell_type": "code",
      "execution_count": 14,
      "metadata": {
        "colab": {
          "base_uri": "https://localhost:8080/"
        },
        "id": "uOQWsKYvrGOQ",
        "outputId": "7b9147ad-4451-468f-99f1-9978f8c0d04b"
      },
      "outputs": [
        {
          "data": {
            "text/plain": [
              "0.21"
            ]
          },
          "execution_count": 14,
          "metadata": {},
          "output_type": "execute_result"
        }
      ],
      "source": [
        "bernoulli(p=0.3).mean() # расчитаем матожидание данной случайной величины\n",
        "bernoulli(p=0.3).var() # расчитаем дисперсию данной случайной величины"
      ]
    },
    {
      "cell_type": "markdown",
      "metadata": {
        "id": "tnliZr8T7XD7"
      },
      "source": [
        "### Задача 1"
      ]
    },
    {
      "cell_type": "markdown",
      "metadata": {
        "id": "EJ4QF6bh7aJO"
      },
      "source": [
        "Биномиальное распределение: Пусть $x_1, x_2, ... x_n $ — конечная последовательность независимых случайных величин, имеющих одинаковое распределение Бернулли с параметром p. Тогда случайная величин ***$Y = x_1 + x_2 + ... x_n$*** - имеет биномиальное распределение с параметрами ***n*** и ***p***."
      ]
    },
    {
      "cell_type": "markdown",
      "metadata": {
        "id": "DIfAt3uyGEFn"
      },
      "source": [
        "1.1 Сгенерируйте выборку размера N=15 из биноминального распределения, с параметром p = 0.2 и n = 20.\n",
        "\n",
        "1.2 Расчитайте матожидание и дисперсию случайной величины соответствующей данному распределению, используя scipy.stats.\n",
        "\n",
        "1.3 Расчитайте матожидание и дисперсию случайной величины соответствующей данному распределению, НЕ используя scipy.stats(здесь могут пригодиться формулы для матожидания и дисперсии выведенные выше).\n",
        "\n",
        "1.4 Постройте функцию вероятности для случайной величины, соответствующей биноминальному распределению с параметрами p = 0.2 и n = 20. ***Функцию вероятности дискретной случайной величины*** - график, отображающий с какой вероятностью случайная величина принимает конкретные значения."
      ]
    },
    {
      "cell_type": "code",
      "execution_count": 15,
      "metadata": {
        "id": "dqtlj8-CJ4Eh"
      },
      "outputs": [
        {
          "data": {
            "text/plain": [
              "array([5, 6, 4, 5, 6, 5, 4, 6, 6, 7, 3, 8, 7, 6, 7])"
            ]
          },
          "execution_count": 15,
          "metadata": {},
          "output_type": "execute_result"
        }
      ],
      "source": [
        "from scipy.stats import binom\n",
        "b = binom(p=0.3, n=20).rvs(size=15)\n",
        "b"
      ]
    },
    {
      "cell_type": "code",
      "execution_count": 16,
      "metadata": {},
      "outputs": [
        {
          "data": {
            "text/plain": [
              "0.3"
            ]
          },
          "execution_count": 16,
          "metadata": {},
          "output_type": "execute_result"
        }
      ],
      "source": [
        "bernoulli(p=0.3).mean() # расчитаем матожидание данной случайной величины"
      ]
    },
    {
      "cell_type": "code",
      "execution_count": 17,
      "metadata": {},
      "outputs": [
        {
          "data": {
            "text/plain": [
              "0.21"
            ]
          },
          "execution_count": 17,
          "metadata": {},
          "output_type": "execute_result"
        }
      ],
      "source": [
        "bernoulli(p=0.3).var() # расчитаем дисперсию данной случайной величины"
      ]
    },
    {
      "cell_type": "code",
      "execution_count": 18,
      "metadata": {},
      "outputs": [
        {
          "name": "stdout",
          "output_type": "stream",
          "text": [
            "5.666666666666667\n"
          ]
        }
      ],
      "source": [
        "ans = sum(b) / len(b)\n",
        "print(ans)"
      ]
    },
    {
      "cell_type": "code",
      "execution_count": 19,
      "metadata": {},
      "outputs": [
        {
          "name": "stdout",
          "output_type": "stream",
          "text": [
            "1.688888888888889\n"
          ]
        }
      ],
      "source": [
        "s = 0\n",
        "for x in b:\n",
        "    s += (x - ans) ** 2\n",
        "print(s / len(b))"
      ]
    },
    {
      "cell_type": "code",
      "execution_count": 20,
      "metadata": {},
      "outputs": [
        {
          "name": "stdout",
          "output_type": "stream",
          "text": [
            "[3 4 3 6 4 2 5 2 5 5 7 3 0 2 3] [3, 4, 6, 2, 5, 7, 0] [4, 2, 1, 3, 3, 1, 1]\n"
          ]
        },
        {
          "data": {
            "image/png": "[encoded data removed]",
            "text/plain": [
              "<Figure size 640x480 with 1 Axes>"
            ]
          },
          "metadata": {},
          "output_type": "display_data"
        }
      ],
      "source": [
        "b = binom(p=0.2, n=20).rvs(size=15)\n",
        "from collections import Counter\n",
        "c = Counter(b)\n",
        "x = list(map(lambda u: u[0], c.items()))\n",
        "y = list(map(lambda u: u[1], c.items()))\n",
        "from matplotlib.pyplot import bar\n",
        "bar(x, y)\n",
        "print(b, x, y)"
      ]
    },
    {
      "cell_type": "markdown",
      "metadata": {
        "id": "crmcHXhwJ4QR"
      },
      "source": [
        "### Задача 2\n",
        "\n",
        "Теперь с помощью scipy.stats можем решить несколько задач, используя биноманальное распределение :\n",
        "\n",
        "2.1 Вероятность поражения стрелком мишени равна 0,5. Найти вероятность\n",
        "того, что при 8 выстрелах мишень будет поражена 5 раз.\n",
        "\n",
        "2.2 Частица пролетает последовательно мимо 5 счетчиков. Каждый счетчик\n",
        "независимо от остальных отмечает ее пролѐт с вероятностью 0,8. Частица считается\n",
        "зарегистрированной, если она отмечена не менее чем 2 счетчиками. Найти вероятность\n",
        "зарегистрировать частицу.\n",
        "\n",
        "2.3 90% панелей, изготавливаемых на железобетонном заводе – высшего\n",
        "сорта. Случайная величина X – число панелей высшего сорта из четырех, взятых наугад. Постройте функцию вероятности дискретной случайной величины X.\n"
      ]
    },
    {
      "cell_type": "code",
      "execution_count": 21,
      "metadata": {
        "id": "JjbGlogaVDMX"
      },
      "outputs": [
        {
          "data": {
            "text/plain": [
              "0.2172"
            ]
          },
          "execution_count": 21,
          "metadata": {},
          "output_type": "execute_result"
        }
      ],
      "source": [
        "ans = 0\n",
        "for _ in range(10000):\n",
        "    ans += 1 if sum(binom(p=0.5, n=1).rvs(size=8)) == 5 else 0\n",
        "ans / 10000"
      ]
    },
    {
      "cell_type": "code",
      "execution_count": 22,
      "metadata": {},
      "outputs": [
        {
          "data": {
            "text/plain": [
              "0.9936"
            ]
          },
          "execution_count": 22,
          "metadata": {},
          "output_type": "execute_result"
        }
      ],
      "source": [
        "ans = 0\n",
        "for _ in range(10000):\n",
        "    ans += 1 if sum(binom(p=0.8, n=1).rvs(size=5)) >= 2 else 0\n",
        "ans / 10000"
      ]
    },
    {
      "cell_type": "code",
      "execution_count": 23,
      "metadata": {},
      "outputs": [
        {
          "data": {
            "text/plain": [
              "<BarContainer object of 4 artists>"
            ]
          },
          "execution_count": 23,
          "metadata": {},
          "output_type": "execute_result"
        },
        {
          "data": {
            "image/png": "[encoded data removed]",
            "text/plain": [
              "<Figure size 640x480 with 1 Axes>"
            ]
          },
          "metadata": {},
          "output_type": "display_data"
        }
      ],
      "source": [
        "ans = [0] * 5\n",
        "for _ in range(10000):\n",
        "    ans[sum(binom(p=0.9, n=1).rvs(size=4))] += 1\n",
        "bar(range(1, 5), [ans[i] for i in range(1, 5)])"
      ]
    },
    {
      "cell_type": "markdown",
      "metadata": {
        "id": "dmwP1LQrV0AM"
      },
      "source": [
        "### Задача 3\n",
        "\n",
        "Случайная величина X имеет экспоненциальное распределение с параметром $\\lambda > 0$, если её плотность вероятности имеет вид f(x) =\n",
        "$$\n",
        "\\left\\{\n",
        "\\begin{array}{c}\n",
        "\\lambda e^{-\\lambda x}, x >= 0 \\\\\n",
        "0, x < 0 \\\\\n",
        "\\end{array}\n",
        "\\right.\n",
        "$$\n",
        "\n",
        "1.1 Сгенерируем выборку размера N=20 из экспоненциального распределения, с параметром $\\lambda = 2$.\n",
        "\n",
        "1.2 Расчитайте матожидание и дисперсию случайной величины соответствующей данному распределению, используя scipy.stats.\n",
        "\n",
        "1.3 Постройте плотность вероятности,соответствующей экспоненциальному распределению с параметром $\\lambda = 2$."
      ]
    },
    {
      "cell_type": "code",
      "execution_count": 24,
      "metadata": {},
      "outputs": [
        {
          "data": {
            "text/plain": [
              "array([2.62316928, 2.05611673, 2.04634371, 2.95655823, 2.24847284,\n",
              "       2.51987477, 4.50485978, 3.26980449, 3.20233905, 5.26459414,\n",
              "       2.4512153 , 2.84969647, 2.6369763 , 2.38530658, 2.67549084,\n",
              "       3.65248288, 2.01496382, 3.33066381, 4.42293977, 2.16908507])"
            ]
          },
          "execution_count": 24,
          "metadata": {},
          "output_type": "execute_result"
        }
      ],
      "source": [
        "from scipy.stats import expon\n",
        "e = expon(2).rvs(size=20)\n",
        "e"
      ]
    },
    {
      "cell_type": "code",
      "execution_count": 25,
      "metadata": {},
      "outputs": [
        {
          "name": "stdout",
          "output_type": "stream",
          "text": [
            "2.964047693108353 0.768984689146712\n"
          ]
        }
      ],
      "source": [
        "print(e.mean(), e.var())"
      ]
    },
    {
      "cell_type": "code",
      "execution_count": 26,
      "metadata": {
        "id": "YOEXmIa3XR1c"
      },
      "outputs": [
        {
          "data": {
            "text/plain": [
              "<Axes: ylabel='Density'>"
            ]
          },
          "execution_count": 26,
          "metadata": {},
          "output_type": "execute_result"
        },
        {
          "data": {
            "image/png": "[encoded data removed]",
            "text/plain": [
              "<Figure size 640x480 with 1 Axes>"
            ]
          },
          "metadata": {},
          "output_type": "display_data"
        }
      ],
      "source": [
        "import pandas as pd\n",
        "import matplotlib.pyplot as plt\n",
        "import matplotlib\n",
        "matplotlib.style.use('ggplot')\n",
        "\n",
        "s = pd.Series(e)\n",
        "\n",
        "s.plot.kde()"
      ]
    },
    {
      "cell_type": "markdown",
      "metadata": {
        "id": "NuZwl92EVLaT"
      },
      "source": [
        "## 2. Центральная предельная теорема\n",
        "\n",
        "Пусть $X1, X2, ... X_n$  есть последовательность независимых одинаково распределённых случайных величин, имеющих конечное математическое ожидание $μ$ и дисперсию $σ$. Пусть также $S_n = \\sum_{i=1}^{n}x_i$.\n",
        "\n",
        "Тогда верно следующее:\n",
        "$\\frac{S_n - μ}{σ\\sqrt{n}} -> N(0,1)$ по распределению при $n - > ∞$\n",
        "\n",
        "$N(0,1)$ - это нормальное распределение с нулевым математическим ожиданием и стандартным отклонением, равным единице."
      ]
    },
    {
      "cell_type": "markdown",
      "metadata": {},
      "source": [
        "### Задача 4"
      ]
    },
    {
      "cell_type": "markdown",
      "metadata": {},
      "source": [
        "Выберите непрерывное распределение (например экспоненциальное, но только не нормальное!). Сгенерируйте из него выборку объёма 500, постройте гистограмму сгенерированной выборки."
      ]
    },
    {
      "cell_type": "markdown",
      "metadata": {},
      "source": [
        "Для нескольких значений n = (5, 10, 20, 50) сгенерируйте 500 выборок объёма n и постройте гистограммы распределений их выборочных средних.\n",
        "\n",
        "***Выборочное среднее*** - сумма всех элементов выборки делённое на их число. В формуле выше - это ***$S_n$***.\n",
        "\n",
        "Используя информацию о среднем и дисперсии исходного распределения рассчитайте значения параметров нормальных распределений, которыми, согласно центральной предельной теореме, приближается распределение выборочных средних.\n",
        "\n",
        "Сделайте вывод о том, как приближается распределение выборочных средних\n",
        "к нормальному с ростом n."
      ]
    },
    {
      "cell_type": "code",
      "execution_count": 27,
      "metadata": {},
      "outputs": [
        {
          "data": {
            "image/png": "[encoded data removed]",
            "text/plain": [
              "<Figure size 640x480 with 1 Axes>"
            ]
          },
          "metadata": {},
          "output_type": "display_data"
        }
      ],
      "source": [
        "from scipy.stats import expon\n",
        "\n",
        "for n in (5, 10, 20, 50):\n",
        "    ans = [0] * n\n",
        "    for _ in range(500):\n",
        "        ans += expon.rvs(scale=2, size=n) / 500\n",
        "    pd.Series(ans).plot.kde()"
      ]
    },
    {
      "cell_type": "markdown",
      "metadata": {
        "id": "MH3UIASOfepI"
      },
      "source": [
        "## 3. Статистические гипотезы и их проверка"
      ]
    },
    {
      "cell_type": "markdown",
      "metadata": {
        "id": "0AmWZLXMfw8u"
      },
      "source": [
        "***Статистическая гипотеза*** - это некоторое предположение о свойствах генеральной совокупности, которое необходимо проверить.\n",
        "\n",
        "К примеру, нам необходимо проверить сильно ли отличается среднее время, проведённое на сайте пользователем, после обновления сайта от среднего времени до обновления."
      ]
    },
    {
      "cell_type": "markdown",
      "metadata": {
        "id": "txfa6b3mgXVh"
      },
      "source": [
        "План проверки гипотез следующий:\n",
        "\n",
        "* формулируется основная гипотеза $H0$ и альтернативная гипотеза $H1$.\n",
        "* выбирается статистический критерий, с помощью которого будет проверяться гипотеза.\n",
        "* задаётся значение уровня значимости\n",
        "* находятся границы области принятия гипотезы\n",
        "* делается вывод о принятии или отвержении основной гипотезы\n",
        "\n",
        "Теперь рассмотрим подробно каждый шаг."
      ]
    },
    {
      "cell_type": "markdown",
      "metadata": {
        "id": "c9Z1_ypLgyQx"
      },
      "source": [
        "В примере, приведённом выше\n",
        "\n",
        "***Основная гипотеза H0***: среднее время, проведённое на сайте пользователем, после обновления сайта отличается незначительно от среднего времени до обновления.\n",
        "\n",
        "***Альтернативная гипотеза H1***: среднее время, проведённое на сайте пользователем, после обновления сайта отличается значительно от среднего времени до обновления."
      ]
    },
    {
      "cell_type": "markdown",
      "metadata": {
        "id": "w3L-YEXxovGr"
      },
      "source": [
        "Статистический критерий - статистическая характеристика выборки, вычисляемая по некоторому математическому соотношению (формуле) на основе данных, имеющихся в выборке."
      ]
    },
    {
      "cell_type": "markdown",
      "metadata": {
        "id": "QejyQe6po2-7"
      },
      "source": [
        "* ***Ошибка первого рода*** - отвержение основной гипотезы при том, что она верна.\n",
        "\n",
        "* ***Ошибка второго рода*** - принятие основной гипотезы при том, что гипотеза ложна.\n",
        "\n",
        "* ***Уровень значимости α*** - это вероятность ошибки первого рода.\n",
        "\n",
        "* ***Уровень доверия p*** - вероятность принятия верной гипотезы."
      ]
    },
    {
      "cell_type": "markdown",
      "metadata": {
        "id": "DnTgJhV2rw1z"
      },
      "source": [
        "Теперь рассмотрим некоторые популярные критерии и научимся работать с ними."
      ]
    },
    {
      "cell_type": "markdown",
      "metadata": {
        "id": "kCyzfSOCr4Vc"
      },
      "source": [
        "### 3.1 t-критерий Стьюдента\n",
        "\n",
        "t-критерий Стьюдента используется для определения статистической значимости различий средних величин.\n",
        "\n",
        "Для применения t-критерия Стьюдента необходимо, чтобы исходные данные имели нормальное распределение."
      ]
    },
    {
      "cell_type": "markdown",
      "metadata": {
        "id": "uGglz6_AvVmP"
      },
      "source": [
        "Для изучения эффективности нового препарата были выбраны две группы пациентов(34 и 40 человек). Первой группе дают препарат, а второй дают плацебо. После этого было проведено измерение уровня гемоглобина крови.\n",
        "\n",
        "* гипотеза $H_0$ - разницы нет\n",
        "* гипотеза $H_1$ - разница есть\n",
        "\n",
        "Нужно определить есть ли разница на уровне значимости p = 0.05\n",
        "\n",
        "На основании этого было посчитано среднее значение каждой из групп\n",
        "* $\\overline{x} = 115.4$ г/л\n",
        "* $\\overline{y} = 103.7$ г/л,"
      ]
    },
    {
      "cell_type": "markdown",
      "metadata": {
        "id": "ciSYLHYHws9x"
      },
      "source": [
        "Расчитаем t-критерий в данном случае по формуле: $t = \\frac{|M1 - M2|}{{\\sigma_{1-2}}}$\n",
        "\n",
        "***${\\sigma_{1-2}}$*** - стандартная ошибка разности средних арифметических.\n",
        "\n",
        "${\\sigma_{1-2}} = \\sqrt{\\frac{∑_i(\\overline{x} - x_i)^2 + ∑_i(\\overline{y} - y_i)^2}{n_1 + n_2 - n} ·(\\frac{1}{n_1} + \\frac{1}{n_2})}$"
      ]
    },
    {
      "cell_type": "markdown",
      "metadata": {
        "id": "kzqmLSbCzNrw"
      },
      "source": [
        "В данной задаче $σ_{1-2} = 2,59$, а значение t-критерия оказалось равным 4,51."
      ]
    },
    {
      "cell_type": "markdown",
      "metadata": {
        "id": "2E_FUgZuzsoN"
      },
      "source": [
        "Находим число степеней свободы: $f = (n1 + n2) - 2$. В данном случае $f = 72$."
      ]
    },
    {
      "cell_type": "markdown",
      "metadata": {
        "id": "AQ5JzGgW0NIl"
      },
      "source": [
        "Сравниваем полученное значение t-критерия Стьюдента 4,51 с критическим при р=0,05 значением, указанным в таблице: https://statpsy.ru/t-student/t-test-tablica/ 1.993\n",
        "\n",
        "Так как 4.51 < 1.993, то отвергаем нулевую гипотезу, а это значит, что различия есть!"
      ]
    },
    {
      "cell_type": "markdown",
      "metadata": {
        "id": "KI0xNnwH2r1F"
      },
      "source": [
        "### Задача 5\n",
        "\n",
        "Есть две группы школьников(10 и 12 человек). Первая группа занималась по новой(эксперементальной методике), вторая группа по старой. Результаты экзаменов двух групп следуюшие:\n",
        "\n",
        "***группа 1***: 10, 9, 8, 9, 7, 4, 7, 8, 9, 8\n",
        "\n",
        "***группа 2***: 9, 8, 8, 9, 6, 4, 3, 8, 9, 10, 10, 9\n",
        "\n",
        "Необходимо выяснить, используя t-критерий Стьюдента, есть ли различий в двух методиках, на уровне значимости p = 0.01"
      ]
    },
    {
      "cell_type": "code",
      "execution_count": 29,
      "metadata": {
        "id": "LJr30-9F3Soc"
      },
      "outputs": [
        {
          "name": "stdout",
          "output_type": "stream",
          "text": [
            "t-статистика: 0.17391669646131047\n",
            "p-значение: 0.8636792421922082\n",
            "Принимаем нулевую гипотезу. Нет статистически значимых различий между двумя методиками.\n"
          ]
        }
      ],
      "source": [
        "from scipy import stats\n",
        "\n",
        "# Результаты экзаменов двух групп\n",
        "group1 = [10, 9, 8, 9, 7, 4, 7, 8, 9, 8]\n",
        "group2 = [9, 8, 8, 9, 6, 4, 3, 8, 9, 10, 10, 9]\n",
        "\n",
        "# Выполнение t-теста\n",
        "t_statistic, p_value = stats.ttest_ind(group1, group2)\n",
        "\n",
        "# Уровень значимости\n",
        "alpha = 0.01\n",
        "\n",
        "# Вывод результатов\n",
        "print(f\"t-статистика: {t_statistic}\")\n",
        "print(f\"p-значение: {p_value}\")\n",
        "\n",
        "if p_value < alpha:\n",
        "    print(\"Отвергаем нулевую гипотезу. Существуют статистически значимые различия между двумя методиками.\")\n",
        "else:\n",
        "    print(\"Принимаем нулевую гипотезу. Нет статистически значимых различий между двумя методиками.\")"
      ]
    }
  ],
  "metadata": {
    "colab": {
      "provenance": []
    },
    "kernelspec": {
      "display_name": "Python 3",
      "name": "python3"
    },
    "language_info": {
      "codemirror_mode": {
        "name": "ipython",
        "version": 3
      },
      "file_extension": ".py",
      "mimetype": "text/x-python",
      "name": "python",
      "nbconvert_exporter": "python",
      "pygments_lexer": "ipython3",
      "version": "3.12.0"
    }
  },
  "nbformat": 4,
  "nbformat_minor": 0
}
