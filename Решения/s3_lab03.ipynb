{
 "cells": [
  {
   "cell_type": "markdown",
   "id": "a106e9f2",
   "metadata": {},
   "source": [
    "- title: Занятие 3\n",
    "- author: Ivan Stepanov\n",
    "- date: 2023-10-27\n",
    "- slug: s3_lab03\n",
    "- ipynb_url: download/s3_lab03.ipynb"
   ]
  },
  {
   "cell_type": "markdown",
   "id": "04d72ead",
   "metadata": {},
   "source": [
    "# Лабораторная работа 3"
   ]
  },
  {
   "cell_type": "markdown",
   "id": "7718b730",
   "metadata": {},
   "source": [
    "***NumPy***(сокращенно от Numerical Python)— библиотека с открытым исходным кодом для языка программирования Python.\n",
    "\n",
    "* поддержмвает многомерные массивы (включая матрицы)\n",
    "* поддерживает высокоуровневые математические функции, предназначенные для работы с многомерными массивами.\n",
    "\n",
    "NumPy обеспечивает как гибкость Python, так и скорость хорошо оптимизированного скомпилированного кода на C. "
   ]
  },
  {
   "cell_type": "markdown",
   "id": "ca825745",
   "metadata": {},
   "source": [
    "Если у вас ещё не установлен Numpy это можно сделать командой: pip install numpy"
   ]
  },
  {
   "cell_type": "markdown",
   "id": "3f03b6c2",
   "metadata": {},
   "source": [
    "##  0. Массивы в Numpy "
   ]
  },
  {
   "cell_type": "markdown",
   "id": "a467f8ed",
   "metadata": {},
   "source": [
    "* Массив в NumPy это таблица элементов одного типа, пронумерованная кортежем положительных целых чисел.\n",
    "* В NumPy измерения называются осями. Количество осей является рангом.\n",
    "* Класс массива NumPy называется ndarray.\n",
    "\n",
    "Обратите внимание, что массив в Numpy содержит элементы одного типа, в отличие от списка!"
   ]
  },
  {
   "cell_type": "code",
   "execution_count": 1,
   "id": "9735941b",
   "metadata": {},
   "outputs": [],
   "source": [
    "import numpy as np # импортируем библиотеку и заменим её ключевым словом np(для удобства)"
   ]
  },
  {
   "cell_type": "code",
   "execution_count": 2,
   "id": "c70b4a3e",
   "metadata": {
    "scrolled": true
   },
   "outputs": [],
   "source": [
    "arr1 = np.array([1, 2, 3]) # массив ранга 1\n",
    "arr2 = np.array( [[1, 2, 3], [4, 2, 5]] ) # массив ранга 2(матрица с двумя строками и тремя столбцами)"
   ]
  },
  {
   "cell_type": "markdown",
   "id": "fa9b5d93",
   "metadata": {},
   "source": [
    "## 1. Создание массива"
   ]
  },
  {
   "cell_type": "markdown",
   "id": "73c9ff89",
   "metadata": {},
   "source": [
    "Есть несколько способов создать массив NumPy. Рассмотрим их подробнее:   "
   ]
  },
  {
   "cell_type": "markdown",
   "id": "c68e480a",
   "metadata": {},
   "source": [
    "### 1.1 Функция array\n",
    "\n",
    "Вы можете создать массив из обычного списка или кортежа, используя array()."
   ]
  },
  {
   "cell_type": "code",
   "execution_count": 3,
   "id": "6df56552",
   "metadata": {},
   "outputs": [
    {
     "name": "stdout",
     "output_type": "stream",
     "text": [
      "[[1 2 3]\n",
      " [4 5 6]]\n"
     ]
    }
   ],
   "source": [
    "a = np.array([[1, 2, 3], [4, 5, 6]], dtype = 'int')\n",
    "print(a)"
   ]
  },
  {
   "cell_type": "markdown",
   "id": "829310fa",
   "metadata": {},
   "source": [
    "### 1.2. Создание массива заполнением начальными значениями\n",
    "\n",
    "Допустим нам неизвестны элементы массива, но известен его размер. В NumPy существуют функции для создания массивов с начальным заполнением. "
   ]
  },
  {
   "cell_type": "code",
   "execution_count": null,
   "id": "d013f0c3",
   "metadata": {},
   "outputs": [
    {
     "name": "stdout",
     "output_type": "stream",
     "text": [
      "a: [0. 0. 0. 0. 0.]\n",
      "b: [[0. 0. 0.]\n",
      " [0. 0. 0.]]\n",
      "r: [0.48573418 0.73455963 0.79920779 0.07569678 0.8825991 ]\n"
     ]
    }
   ],
   "source": [
    "a = np.zeros(5) # создаём 1-d массив, содержащий 5 нулей\n",
    "print('a:', a)\n",
    "b = np.zeros((2, 3)) # создаём 2-d массив, размера 2 на 3\n",
    "print('b:', b)\n",
    "r = np.random.random(5) # создаём массив со случайными значениями на определённом интервале\n",
    "print('r:', r)"
   ]
  },
  {
   "cell_type": "markdown",
   "id": "bb075e4d",
   "metadata": {},
   "source": [
    "### 1.3. Фунция arange"
   ]
  },
  {
   "cell_type": "code",
   "execution_count": 5,
   "id": "264b690c",
   "metadata": {},
   "outputs": [
    {
     "name": "stdout",
     "output_type": "stream",
     "text": [
      "[0 2 4 6 8]\n"
     ]
    }
   ],
   "source": [
    "a = np.arange(0, 10, 2) # создаём массив от 0 до 10 с шагом 2\n",
    "print(a)"
   ]
  },
  {
   "cell_type": "markdown",
   "id": "55cb86e2",
   "metadata": {},
   "source": [
    "### 1.4. reshape\n",
    "\n",
    "Мы также можем менять размеры массивов. Размер массива всегда можно вычислить командой a.shape"
   ]
  },
  {
   "cell_type": "code",
   "execution_count": 6,
   "id": "745c332c",
   "metadata": {},
   "outputs": [
    {
     "name": "stdout",
     "output_type": "stream",
     "text": [
      "a:  (2, 4)\n",
      "new_a:  (4, 2)\n"
     ]
    }
   ],
   "source": [
    "a = np.array([[1, 2, 3, 4], [5, 2, 4, 2]])\n",
    "print('a: ', a.shape)\n",
    "new_a = a.reshape(4, 2)\n",
    "print('new_a: ', new_a.shape)"
   ]
  },
  {
   "cell_type": "markdown",
   "id": "2bce5143",
   "metadata": {},
   "source": [
    "### 1.5. flatten\n",
    "\n",
    "Любой многомерный массив мы можем развернуть с помощью функции flatten."
   ]
  },
  {
   "cell_type": "code",
   "execution_count": null,
   "id": "896ccf9f",
   "metadata": {},
   "outputs": [
    {
     "name": "stdout",
     "output_type": "stream",
     "text": [
      "[1 2 3 4 5 2 4 2]\n"
     ]
    }
   ],
   "source": [
    "a = np.array([[1, 2, 3, 4], [5, 2, 4, 2]])\n",
    "new_a = a.flatten()\n",
    "print(new_a)"
   ]
  },
  {
   "cell_type": "markdown",
   "id": "05327389",
   "metadata": {},
   "source": [
    "## 2. Идексация массивов"
   ]
  },
  {
   "cell_type": "markdown",
   "id": "3c0c393a",
   "metadata": {},
   "source": [
    "### 2.1 Одномерных"
   ]
  },
  {
   "cell_type": "code",
   "execution_count": null,
   "id": "ba17d12c",
   "metadata": {},
   "outputs": [
    {
     "name": "stdout",
     "output_type": "stream",
     "text": [
      "[0 1 2 3 4 5 6 7 8 9]\n"
     ]
    }
   ],
   "source": [
    "a = np.arange(10) # создадим массив\n",
    "print(a)"
   ]
  },
  {
   "cell_type": "code",
   "execution_count": null,
   "id": "948d8aed",
   "metadata": {},
   "outputs": [
    {
     "name": "stdout",
     "output_type": "stream",
     "text": [
      "четвёртый элемент: 3\n",
      "последний элемент: 9\n",
      "теперь четвёртый элемент: 11\n"
     ]
    }
   ],
   "source": [
    "# как можно заменить доступ остался таким же как в списках\n",
    "print('четвёртый элемент:', a[3])\n",
    "print('последний элемент:', a[-1])\n",
    "a[3] = 11\n",
    "print('теперь четвёртый элемент:', a[3])"
   ]
  },
  {
   "cell_type": "code",
   "execution_count": null,
   "id": "89e023a6",
   "metadata": {},
   "outputs": [],
   "source": [
    "# мы также можем создавать срезы, как и в списках.\n",
    "new_a = a[1:5]"
   ]
  },
  {
   "cell_type": "code",
   "execution_count": null,
   "id": "270d6518",
   "metadata": {},
   "outputs": [
    {
     "name": "stdout",
     "output_type": "stream",
     "text": [
      "[  0   1 -10  11   4   5   6   7   8   9]\n"
     ]
    }
   ],
   "source": [
    "# теперь немного магии\n",
    "new_a[1] = -10\n",
    "print(a)"
   ]
  },
  {
   "cell_type": "markdown",
   "id": "351c3bc6",
   "metadata": {},
   "source": [
    "Мы поменяли элемент среза и наш исходный массив тоже изменился!!! Почему?  Это сделано специально для экономии памяти. Данные на которые ссылаются ***a*** и ***new_a*** одни и те же. Срезы – это не полноценные копии массивов, а скорее их новое представление."
   ]
  },
  {
   "cell_type": "markdown",
   "id": "136525ec",
   "metadata": {},
   "source": [
    "### 2.2 Многомерных"
   ]
  },
  {
   "cell_type": "code",
   "execution_count": 7,
   "id": "62778f25",
   "metadata": {},
   "outputs": [],
   "source": [
    "x = np.array([(1, 2, 3), (4, 5, 6), (7, 8, 9)]) # создаём многомерный массив"
   ]
  },
  {
   "cell_type": "markdown",
   "id": "e7ab6132",
   "metadata": {},
   "source": [
    "С точки зрения математики, можно сказать, что нашим объектом является следующая матрица. \n",
    "\n",
    "\\begin{equation}\n",
    "  \\begin{bmatrix}\n",
    "    1 & 2 & 3\\\\\n",
    "    4 & 5 & 6\\\\\n",
    "    7 & 8 & 9\n",
    "  \\end{bmatrix}\n",
    "  \\label{eq:aeqn}\n",
    "\\end{equation}"
   ]
  },
  {
   "cell_type": "code",
   "execution_count": null,
   "id": "956892b4",
   "metadata": {},
   "outputs": [
    {
     "name": "stdout",
     "output_type": "stream",
     "text": [
      "9\n",
      "[1 2 3]\n",
      "[1 4 7]\n"
     ]
    }
   ],
   "source": [
    "#мы также можем обращаться к элементам матрицы следующим образом\n",
    "print(x[2][2])\n",
    "# можем обратиться только к конкретной строке \n",
    "print(x[0])\n",
    "# к конкретному столбцу\n",
    "print(x[:,0])"
   ]
  },
  {
   "cell_type": "markdown",
   "id": "29197622",
   "metadata": {},
   "source": [
    "Итерирование многомерных массивов можно выполнять с помощью вложенных циклов. "
   ]
  },
  {
   "cell_type": "code",
   "execution_count": null,
   "id": "e30fd6a5",
   "metadata": {},
   "outputs": [
    {
     "name": "stdout",
     "output_type": "stream",
     "text": [
      "1 2 3 \n",
      "4 5 6 \n",
      "7 8 9 \n"
     ]
    }
   ],
   "source": [
    "for row in x:\n",
    "    for value in row:\n",
    "        print(value, end=' ')\n",
    "    print()"
   ]
  },
  {
   "cell_type": "markdown",
   "id": "abe378e0",
   "metadata": {},
   "source": [
    "Можно использовать flat, позволяющий выводить элементы многомерного массива поэлемента. "
   ]
  },
  {
   "cell_type": "code",
   "execution_count": null,
   "id": "e658c8ba",
   "metadata": {},
   "outputs": [
    {
     "name": "stdout",
     "output_type": "stream",
     "text": [
      "1 2 3 4 5 6 7 8 9 "
     ]
    }
   ],
   "source": [
    "for val in x.flat:\n",
    "    print(val, end=' ')"
   ]
  },
  {
   "cell_type": "markdown",
   "id": "ea16a657",
   "metadata": {},
   "source": [
    "## 3. Операции над массивами"
   ]
  },
  {
   "cell_type": "markdown",
   "id": "45b421f4",
   "metadata": {},
   "source": [
    "### 3.1 Математические операции"
   ]
  },
  {
   "cell_type": "code",
   "execution_count": null,
   "id": "bf62c3a9",
   "metadata": {},
   "outputs": [],
   "source": [
    "# создадим два массива\n",
    "a = np.array([(1, 2, 3), (4, 5, 6), (7, 8, 9)])\n",
    "b = np.array([(19, 20, 21), (22, 23, 24), (25, 26, 27)])"
   ]
  },
  {
   "cell_type": "markdown",
   "id": "8c9780a3",
   "metadata": {},
   "source": [
    "Мы можем складывать, умножать, делить, считать остаток и т.д поэлементно."
   ]
  },
  {
   "cell_type": "code",
   "execution_count": null,
   "id": "0e674ad8",
   "metadata": {
    "scrolled": true
   },
   "outputs": [
    {
     "name": "stdout",
     "output_type": "stream",
     "text": [
      "[[20 22 24]\n",
      " [26 28 30]\n",
      " [32 34 36]]\n"
     ]
    }
   ],
   "source": [
    "# сумма\n",
    "print(a + b)"
   ]
  },
  {
   "cell_type": "code",
   "execution_count": null,
   "id": "209049b5",
   "metadata": {},
   "outputs": [
    {
     "name": "stdout",
     "output_type": "stream",
     "text": [
      "[[-18 -18 -18]\n",
      " [-18 -18 -18]\n",
      " [-18 -18 -18]]\n"
     ]
    }
   ],
   "source": [
    "# разность\n",
    "print(a - b)"
   ]
  },
  {
   "cell_type": "code",
   "execution_count": null,
   "id": "a0b9fe96",
   "metadata": {},
   "outputs": [
    {
     "name": "stdout",
     "output_type": "stream",
     "text": [
      "[[ 19  40  63]\n",
      " [ 88 115 144]\n",
      " [175 208 243]]\n"
     ]
    }
   ],
   "source": [
    "# умножение\n",
    "print(a * b)"
   ]
  },
  {
   "cell_type": "code",
   "execution_count": null,
   "id": "b172b68a",
   "metadata": {},
   "outputs": [
    {
     "name": "stdout",
     "output_type": "stream",
     "text": [
      "[[0 0 0]\n",
      " [2 3 0]\n",
      " [4 2 0]]\n"
     ]
    }
   ],
   "source": [
    "# остаток от деления\n",
    "print(b % a)"
   ]
  },
  {
   "cell_type": "code",
   "execution_count": null,
   "id": "4aaf6ef9",
   "metadata": {},
   "outputs": [
    {
     "data": {
      "text/plain": [
       "array([[1.        , 1.41421356, 1.73205081],\n",
       "       [2.        , 2.23606798, 2.44948974],\n",
       "       [2.64575131, 2.82842712, 3.        ]])"
      ]
     },
     "execution_count": 97,
     "metadata": {},
     "output_type": "execute_result"
    }
   ],
   "source": [
    "# Также, в numpy есть библиотека стандартных мат функций, которые можно применить к каждому элементу массива. \n",
    "a = np.array([(1, 2, 3), (4, 5, 6), (7, 8, 9)])\n",
    "np.sqrt(a)"
   ]
  },
  {
   "cell_type": "markdown",
   "id": "76cbbf4e",
   "metadata": {},
   "source": [
    "### 3.2 Базовые операции с массивыми"
   ]
  },
  {
   "cell_type": "code",
   "execution_count": null,
   "id": "268d8d80",
   "metadata": {},
   "outputs": [
    {
     "name": "stdout",
     "output_type": "stream",
     "text": [
      "45\n",
      "362880\n",
      "9\n",
      "1\n",
      "5.0\n",
      "6.666666666666667\n"
     ]
    }
   ],
   "source": [
    "a = np.array([(1, 2, 3, 4, 5, 6, 7, 8, 9)])\n",
    "# сумма элементов\n",
    "print(a.sum())\n",
    "# произведение элементов\n",
    "print(a.prod())\n",
    "# макс и мин элемент\n",
    "print(a.max())\n",
    "print(a.min())\n",
    "# среднее значение\n",
    "print(a.mean())\n",
    "# дисперсия\n",
    "print(a.var())"
   ]
  },
  {
   "cell_type": "markdown",
   "id": "e6339b94",
   "metadata": {},
   "source": [
    "***P.S NumPy - мощный интсрумент, который содержит в себе много функций и методов.*** \n",
    "\n",
    "Обращайтесь к туториалу: https://numpy.org/devdocs/user/quickstart.html\n",
    "\n",
    "И не бойтесь гуглить!"
   ]
  },
  {
   "cell_type": "markdown",
   "id": "52b5b57b",
   "metadata": {},
   "source": [
    "### Задача 1\n",
    "\n",
    "Создайте две numpy матрицы, содержащие температуры в Кельвинах и Фаренгейтах на основе матрицы температур в Цельсиях."
   ]
  },
  {
   "cell_type": "code",
   "execution_count": 7,
   "id": "ae87fdb3",
   "metadata": {},
   "outputs": [],
   "source": [
    "a = np.array([(14, 23, 31, 14, 55, 36, 87, 118, 91)]) # матрица температур(в Цельсиях)"
   ]
  },
  {
   "cell_type": "code",
   "execution_count": 11,
   "id": "a98205f0",
   "metadata": {},
   "outputs": [
    {
     "data": {
      "text/plain": [
       "array([[287, 296, 304, 287, 328, 309, 360, 391, 364]])"
      ]
     },
     "execution_count": 11,
     "metadata": {},
     "output_type": "execute_result"
    }
   ],
   "source": [
    "np.vectorize(lambda x: x + 273)(a)"
   ]
  },
  {
   "cell_type": "code",
   "execution_count": 12,
   "id": "be7765d9",
   "metadata": {},
   "outputs": [
    {
     "data": {
      "text/plain": [
       "array([[ 38.25136612,  62.84153005,  84.69945355,  38.25136612,\n",
       "        150.27322404,  98.36065574, 237.70491803, 322.40437158,\n",
       "        248.63387978]])"
      ]
     },
     "execution_count": 12,
     "metadata": {},
     "output_type": "execute_result"
    }
   ],
   "source": [
    "np.vectorize(lambda x: x * 100 / 36.6)(a)"
   ]
  },
  {
   "cell_type": "markdown",
   "id": "ebfe6e7e",
   "metadata": {},
   "source": [
    "### Задача 2\n",
    "Создайте матрицу с 0 внутри и 1 на границах."
   ]
  },
  {
   "cell_type": "code",
   "execution_count": 16,
   "id": "bdbcc4b5",
   "metadata": {},
   "outputs": [
    {
     "data": {
      "text/plain": [
       "array([[1, 1, 1, 1, 1],\n",
       "       [1, 0, 0, 0, 1],\n",
       "       [1, 0, 0, 0, 1],\n",
       "       [1, 0, 0, 0, 1],\n",
       "       [1, 1, 1, 1, 1]])"
      ]
     },
     "execution_count": 16,
     "metadata": {},
     "output_type": "execute_result"
    }
   ],
   "source": [
    "n, m = 5, 5\n",
    "ans = [[1] + [0] * (m - 2) + [1] if 0 < i < n - 1 else [1] * m for i in range(n)]\n",
    "np.array(ans)"
   ]
  },
  {
   "cell_type": "markdown",
   "id": "873e65ed",
   "metadata": {},
   "source": [
    "### 3.3 Умножения матриц"
   ]
  },
  {
   "cell_type": "code",
   "execution_count": null,
   "id": "2fb0dc3e",
   "metadata": {},
   "outputs": [
    {
     "name": "stdout",
     "output_type": "stream",
     "text": [
      "[282 294 306]\n",
      "[282 294 306]\n"
     ]
    }
   ],
   "source": [
    "a = np.array([(1, 2, 3), (4, 5, 6), (7, 8, 9)])\n",
    "a = np.array([(1), (4), (7)])\n",
    "# можем так\n",
    "print(a @ b)\n",
    "# а можем так\n",
    "print(a.dot(b))"
   ]
  },
  {
   "cell_type": "markdown",
   "id": "e7abde6b",
   "metadata": {},
   "source": [
    "### Задача 3 \n",
    "\n",
    "Посчитайте произведение матриц используя:\n",
    "* @\n",
    "* dot\n",
    "* не используя ни dot, ни @"
   ]
  },
  {
   "cell_type": "code",
   "execution_count": 17,
   "id": "14575dc0",
   "metadata": {},
   "outputs": [],
   "source": [
    "A = np.array([[1.0, 2.0, 3.0],\n",
    "              [4.0, 5.0, 6.0]])\n",
    "B = np.array([[11.0, 12.0],\n",
    "              [13.0, 14.0],\n",
    "              [15.0, 16.0]])"
   ]
  },
  {
   "cell_type": "code",
   "execution_count": 19,
   "id": "66ae1561",
   "metadata": {},
   "outputs": [
    {
     "data": {
      "text/plain": [
       "array([[ 82.,  88.],\n",
       "       [199., 214.]])"
      ]
     },
     "execution_count": 19,
     "metadata": {},
     "output_type": "execute_result"
    }
   ],
   "source": [
    "A @ B"
   ]
  },
  {
   "cell_type": "code",
   "execution_count": null,
   "id": "e702d6c7",
   "metadata": {},
   "outputs": [],
   "source": [
    "A.dot(B)"
   ]
  },
  {
   "cell_type": "code",
   "execution_count": 26,
   "id": "5178cb06",
   "metadata": {},
   "outputs": [
    {
     "data": {
      "text/plain": [
       "array([[ 82.,  88.],\n",
       "       [199., 214.]])"
      ]
     },
     "execution_count": 26,
     "metadata": {},
     "output_type": "execute_result"
    }
   ],
   "source": [
    "C = [[0] * A.shape[0] for _ in range(B.shape[1])]\n",
    "for i in range(A.shape[0]):\n",
    "    for j in range(B.shape[1]):\n",
    "        for r in range(A.shape[1]):\n",
    "            C[i][j] += A[i][r] * B[r][j]\n",
    "np.array(C)"
   ]
  },
  {
   "cell_type": "markdown",
   "id": "53d62a52",
   "metadata": {},
   "source": [
    "### Задача 4\n",
    "\n",
    "Мы можем расчитать норму вектора: ***np.linalg.norm([1.0, 2.0, 3.0])***.\n",
    "\n",
    "Найдите косинус угла между векторами:\n",
    "* используя np.linalg.norm\n",
    "* не используя\n",
    "\n"
   ]
  },
  {
   "cell_type": "code",
   "execution_count": 28,
   "id": "92dab97e",
   "metadata": {},
   "outputs": [],
   "source": [
    "a = np.array([1.0, 2.0, 3.0])\n",
    "b = np.array([4.0, 5.0, 6.0])"
   ]
  },
  {
   "cell_type": "code",
   "execution_count": 33,
   "id": "83085c72",
   "metadata": {},
   "outputs": [
    {
     "data": {
      "text/plain": [
       "0.9746318461970762"
      ]
     },
     "execution_count": 33,
     "metadata": {},
     "output_type": "execute_result"
    }
   ],
   "source": [
    "np.dot(a, b) / np.linalg.norm(a) / np.linalg.norm(b)"
   ]
  },
  {
   "cell_type": "code",
   "execution_count": 34,
   "id": "458d7fc4",
   "metadata": {},
   "outputs": [
    {
     "data": {
      "text/plain": [
       "0.9746318461970762"
      ]
     },
     "execution_count": 34,
     "metadata": {},
     "output_type": "execute_result"
    }
   ],
   "source": [
    "linalg = lambda x: np.sqrt(sum((i ** 2 for i in x)))\n",
    "np.dot(a, b) / linalg(a) / linalg(b)"
   ]
  },
  {
   "cell_type": "markdown",
   "id": "b1cf52ac",
   "metadata": {},
   "source": [
    "## 4. Линейнай алгебра в NumPy\n"
   ]
  },
  {
   "cell_type": "markdown",
   "id": "8943aeaf",
   "metadata": {},
   "source": [
    "### 4.1 Решение систем линейных уравнений"
   ]
  },
  {
   "cell_type": "markdown",
   "id": "992726ff",
   "metadata": {},
   "source": [
    "Библиотеку numpy удобно использовать для решения систем линейных уравнений. Если система уравнений $Ax = y$ имеет решение, и при этом только одно, то оно выражается как $x = A^{-1}y$ . Для обращения матрицы используется функция np.linalg.inv. Рассмотрим систему уравнений:\n",
    "$$\n",
    "\\left\\{ \n",
    "\\begin{array}{c}\n",
    "2x + z = 1 \\\\ \n",
    "x - z = 4 \\\\ \n",
    "\\end{array}\n",
    "\\right. \n",
    "$$"
   ]
  },
  {
   "cell_type": "code",
   "execution_count": 35,
   "id": "ea7688aa",
   "metadata": {},
   "outputs": [
    {
     "name": "stdout",
     "output_type": "stream",
     "text": [
      "[ 1.66666667 -2.33333333]\n"
     ]
    }
   ],
   "source": [
    "A = np.array([[2.0, 1.0],\n",
    "              [1.0, -1.0]])\n",
    "y = np.array([1.0, 4.0])\n",
    "# решение будет\n",
    "print(np.linalg.inv(A) @ y)"
   ]
  },
  {
   "cell_type": "markdown",
   "id": "751f1b38",
   "metadata": {},
   "source": [
    "### Задача 5\n",
    "\n",
    "Решите следующую систему:"
   ]
  },
  {
   "cell_type": "markdown",
   "id": "d8ff7099",
   "metadata": {},
   "source": [
    "$$\n",
    "\\left\\{ \n",
    "\\begin{array}{c}\n",
    "2x+3y+4z = 5 \\\\ \n",
    "x-y+z=3 \\\\ \n",
    "2x+6y-3z=4\n",
    "\\end{array}\n",
    "\\right. \n",
    "$$"
   ]
  },
  {
   "cell_type": "code",
   "execution_count": 8,
   "id": "5f4eac91",
   "metadata": {},
   "outputs": [
    {
     "name": "stdout",
     "output_type": "stream",
     "text": [
      "[ 2.73170732 -0.2195122   0.04878049]\n"
     ]
    }
   ],
   "source": [
    "A = np.array([[2.0, 3.0, 4.0],\n",
    "              [1.0, -1.0, 1.0],\n",
    "              [2.0, 6.0, -3.0]])\n",
    "y = np.array([5.0, 3.0, 4.0])\n",
    "# решение будет\n",
    "print(np.linalg.inv(A) @ y)"
   ]
  },
  {
   "cell_type": "markdown",
   "id": "c0ed73a5",
   "metadata": {},
   "source": [
    "### 4.2 Ещё немного линейной алгебры"
   ]
  },
  {
   "cell_type": "markdown",
   "id": "99531b64",
   "metadata": {},
   "source": [
    "### Задача 6\n",
    "\n",
    "Дана матрица B.\n",
    "\n",
    "Найдите её:\n",
    "\n",
    "* детерминант\n",
    "* ранг\n",
    "* собственные значения\n",
    "\n",
    "P.S воспользуйтесь полезным туториалом: https://www.geeksforgeeks.org/numpy-linear-algebra/?ref=lbp."
   ]
  },
  {
   "cell_type": "code",
   "execution_count": 12,
   "id": "a3e0db48",
   "metadata": {},
   "outputs": [],
   "source": [
    "B = np.array([[11.0, 12.0],\n",
    "              [13.0, 14.0],\n",
    "              [15.0, 16.0]])"
   ]
  },
  {
   "cell_type": "code",
   "execution_count": 13,
   "metadata": {},
   "outputs": [
    {
     "ename": "LinAlgError",
     "evalue": "Last 2 dimensions of the array must be square",
     "output_type": "error",
     "traceback": [
      "\u001b[0;31m---------------------------------------------------------------------------\u001b[0m",
      "\u001b[0;31mLinAlgError\u001b[0m                               Traceback (most recent call last)",
      "\u001b[1;32m/Users/igor/Desktop/skolkovo-bba/informatics3/Решения/s3_lab03.ipynb Ячейка 75\u001b[0m line \u001b[0;36m1\n\u001b[0;32m----> <a href='vscode-notebook-cell:/Users/igor/Desktop/skolkovo-bba/informatics3/%D0%A0%D0%B5%D1%88%D0%B5%D0%BD%D0%B8%D1%8F/s3_lab03.ipynb#Y213sZmlsZQ%3D%3D?line=0'>1</a>\u001b[0m np\u001b[39m.\u001b[39;49mlinalg\u001b[39m.\u001b[39;49mdet(B)\n",
      "File \u001b[0;32m/Library/Frameworks/Python.framework/Versions/3.12/lib/python3.12/site-packages/numpy/linalg/linalg.py:2177\u001b[0m, in \u001b[0;36mdet\u001b[0;34m(a)\u001b[0m\n\u001b[1;32m   2175\u001b[0m a \u001b[39m=\u001b[39m asarray(a)\n\u001b[1;32m   2176\u001b[0m _assert_stacked_2d(a)\n\u001b[0;32m-> 2177\u001b[0m _assert_stacked_square(a)\n\u001b[1;32m   2178\u001b[0m t, result_t \u001b[39m=\u001b[39m _commonType(a)\n\u001b[1;32m   2179\u001b[0m signature \u001b[39m=\u001b[39m \u001b[39m'\u001b[39m\u001b[39mD->D\u001b[39m\u001b[39m'\u001b[39m \u001b[39mif\u001b[39;00m isComplexType(t) \u001b[39melse\u001b[39;00m \u001b[39m'\u001b[39m\u001b[39md->d\u001b[39m\u001b[39m'\u001b[39m\n",
      "File \u001b[0;32m/Library/Frameworks/Python.framework/Versions/3.12/lib/python3.12/site-packages/numpy/linalg/linalg.py:213\u001b[0m, in \u001b[0;36m_assert_stacked_square\u001b[0;34m(*arrays)\u001b[0m\n\u001b[1;32m    211\u001b[0m m, n \u001b[39m=\u001b[39m a\u001b[39m.\u001b[39mshape[\u001b[39m-\u001b[39m\u001b[39m2\u001b[39m:]\n\u001b[1;32m    212\u001b[0m \u001b[39mif\u001b[39;00m m \u001b[39m!=\u001b[39m n:\n\u001b[0;32m--> 213\u001b[0m     \u001b[39mraise\u001b[39;00m LinAlgError(\u001b[39m'\u001b[39m\u001b[39mLast 2 dimensions of the array must be square\u001b[39m\u001b[39m'\u001b[39m)\n",
      "\u001b[0;31mLinAlgError\u001b[0m: Last 2 dimensions of the array must be square"
     ]
    }
   ],
   "source": [
    "np.linalg.det(B)"
   ]
  },
  {
   "cell_type": "code",
   "execution_count": 10,
   "metadata": {},
   "outputs": [
    {
     "data": {
      "text/plain": [
       "2"
      ]
     },
     "execution_count": 10,
     "metadata": {},
     "output_type": "execute_result"
    }
   ],
   "source": [
    "np.linalg.matrix_rank(B)"
   ]
  },
  {
   "cell_type": "code",
   "execution_count": 14,
   "id": "0e017a48",
   "metadata": {},
   "outputs": [
    {
     "ename": "LinAlgError",
     "evalue": "Last 2 dimensions of the array must be square",
     "output_type": "error",
     "traceback": [
      "\u001b[0;31m---------------------------------------------------------------------------\u001b[0m",
      "\u001b[0;31mLinAlgError\u001b[0m                               Traceback (most recent call last)",
      "\u001b[1;32m/Users/igor/Desktop/skolkovo-bba/informatics3/Решения/s3_lab03.ipynb Ячейка 77\u001b[0m line \u001b[0;36m1\n\u001b[0;32m----> <a href='vscode-notebook-cell:/Users/igor/Desktop/skolkovo-bba/informatics3/%D0%A0%D0%B5%D1%88%D0%B5%D0%BD%D0%B8%D1%8F/s3_lab03.ipynb#Y134sZmlsZQ%3D%3D?line=0'>1</a>\u001b[0m np\u001b[39m.\u001b[39;49mlinalg\u001b[39m.\u001b[39;49meig(B)\n",
      "File \u001b[0;32m/Library/Frameworks/Python.framework/Versions/3.12/lib/python3.12/site-packages/numpy/linalg/linalg.py:1328\u001b[0m, in \u001b[0;36meig\u001b[0;34m(a)\u001b[0m\n\u001b[1;32m   1326\u001b[0m a, wrap \u001b[39m=\u001b[39m _makearray(a)\n\u001b[1;32m   1327\u001b[0m _assert_stacked_2d(a)\n\u001b[0;32m-> 1328\u001b[0m _assert_stacked_square(a)\n\u001b[1;32m   1329\u001b[0m _assert_finite(a)\n\u001b[1;32m   1330\u001b[0m t, result_t \u001b[39m=\u001b[39m _commonType(a)\n",
      "File \u001b[0;32m/Library/Frameworks/Python.framework/Versions/3.12/lib/python3.12/site-packages/numpy/linalg/linalg.py:213\u001b[0m, in \u001b[0;36m_assert_stacked_square\u001b[0;34m(*arrays)\u001b[0m\n\u001b[1;32m    211\u001b[0m m, n \u001b[39m=\u001b[39m a\u001b[39m.\u001b[39mshape[\u001b[39m-\u001b[39m\u001b[39m2\u001b[39m:]\n\u001b[1;32m    212\u001b[0m \u001b[39mif\u001b[39;00m m \u001b[39m!=\u001b[39m n:\n\u001b[0;32m--> 213\u001b[0m     \u001b[39mraise\u001b[39;00m LinAlgError(\u001b[39m'\u001b[39m\u001b[39mLast 2 dimensions of the array must be square\u001b[39m\u001b[39m'\u001b[39m)\n",
      "\u001b[0;31mLinAlgError\u001b[0m: Last 2 dimensions of the array must be square"
     ]
    }
   ],
   "source": [
    "np.linalg.eig(B)"
   ]
  },
  {
   "cell_type": "markdown",
   "id": "a3f4bf66",
   "metadata": {},
   "source": [
    "## 5. Математика многочленов"
   ]
  },
  {
   "cell_type": "markdown",
   "id": "50961147",
   "metadata": {},
   "source": [
    "### 5.1 np.poly"
   ]
  },
  {
   "cell_type": "code",
   "execution_count": null,
   "id": "9d11d497",
   "metadata": {},
   "outputs": [
    {
     "data": {
      "text/plain": [
       "array([ 1., -2., -1.,  2.])"
      ]
     },
     "execution_count": 105,
     "metadata": {},
     "output_type": "execute_result"
    }
   ],
   "source": [
    "# np.poly - передаём список корней, получаем коэффициенты уравнения, которое имеет данные корни:\n",
    "np.poly([-1, 1, 2])"
   ]
  },
  {
   "cell_type": "markdown",
   "id": "5de3ab46",
   "metadata": {},
   "source": [
    "Получили уравнение:\n",
    "\n",
    "$x^3 -2x^2 -x + 2 =0$"
   ]
  },
  {
   "cell_type": "markdown",
   "id": "7925d3aa",
   "metadata": {},
   "source": [
    "### 5.2 roots"
   ]
  },
  {
   "cell_type": "code",
   "execution_count": null,
   "id": "1c28bac3",
   "metadata": {},
   "outputs": [
    {
     "data": {
      "text/plain": [
       "array([3., 2.])"
      ]
     },
     "execution_count": 106,
     "metadata": {},
     "output_type": "execute_result"
    }
   ],
   "source": [
    "# np.roots - передаём список коэффициентов уравнения, возвращаем корни.\n",
    "np.roots([1, -5, 6])"
   ]
  },
  {
   "cell_type": "markdown",
   "id": "57be314c",
   "metadata": {},
   "source": [
    "Мы решили уравнение: $x^2 - 5x + 6 = 0$"
   ]
  },
  {
   "cell_type": "markdown",
   "id": "98d66593",
   "metadata": {},
   "source": [
    "### Задача 7\n",
    "\n",
    "Напишите функцию решающую квадратное уравнение и принимающую на вход коэффициенты этого уравнения."
   ]
  },
  {
   "cell_type": "code",
   "execution_count": 16,
   "id": "99b6f9d7",
   "metadata": {},
   "outputs": [
    {
     "data": {
      "text/plain": [
       "array([3., 2.])"
      ]
     },
     "execution_count": 16,
     "metadata": {},
     "output_type": "execute_result"
    }
   ],
   "source": [
    "np.roots(list(map(float, input().split())))"
   ]
  },
  {
   "cell_type": "markdown",
   "id": "cd8c926d",
   "metadata": {},
   "source": [
    "### Задача 8\n",
    "\n",
    "Теперь решите задачу 7, не используя np.roots.\n",
    "\n",
    "Почувствуйте разницу)"
   ]
  },
  {
   "cell_type": "code",
   "execution_count": null,
   "id": "15a48698",
   "metadata": {},
   "outputs": [],
   "source": [
    "import math\n",
    " \n",
    "print(\"Введите коэффициенты для уравнения\")\n",
    "print(\"ax^2 + bx + c = 0:\")\n",
    "a = float(input(\"a = \"))\n",
    "b = float(input(\"b = \"))\n",
    "c = float(input(\"c = \"))\n",
    " \n",
    "discr = b ** 2 - 4 * a * c\n",
    "print(\"Дискриминант D = %.2f\" % discr)\n",
    " \n",
    "if discr > 0:\n",
    "    x1 = (-b + math.sqrt(discr)) / (2 * a)\n",
    "    x2 = (-b - math.sqrt(discr)) / (2 * a)\n",
    "    print(\"x1 = %.2f \\nx2 = %.2f\" % (x1, x2))\n",
    "elif discr == 0:\n",
    "    x = -b / (2 * a)\n",
    "    print(\"x = %.2f\" % x)\n",
    "else:\n",
    "    print(\"Корней нет\")"
   ]
  },
  {
   "cell_type": "markdown",
   "id": "dda26cca",
   "metadata": {},
   "source": [
    "## 6. Разные задачки\n",
    "\n",
    "P.S При решении рекомендуется обращаться к руководству пользователя NumPy: https://numpy.org/doc/stable/user/index.html"
   ]
  },
  {
   "cell_type": "markdown",
   "id": "84ee56fb",
   "metadata": {},
   "source": [
    "### Задача 9\n",
    "\n",
    "Дан массив a. Поменяйте знак у элементов, кратных трём."
   ]
  },
  {
   "cell_type": "code",
   "execution_count": null,
   "id": "45160472",
   "metadata": {},
   "outputs": [],
   "source": [
    "a = np.arange(20)"
   ]
  },
  {
   "cell_type": "code",
   "execution_count": null,
   "id": "0c2f03d5",
   "metadata": {},
   "outputs": [],
   "source": []
  },
  {
   "cell_type": "markdown",
   "id": "e9fea6c7",
   "metadata": {},
   "source": [
    "### Задача 10\n",
    "\n",
    "Дано 4 точки у каждой из которых есть координата x и y. Значения x и y каждой точки представлены в матрице A.\n",
    "\n",
    "Преобразуйте их в полярные координаты."
   ]
  },
  {
   "cell_type": "code",
   "execution_count": null,
   "id": "83f4213f",
   "metadata": {},
   "outputs": [],
   "source": [
    "A = np.array([[1,1],[1,0], [0,1], [0,0]]).astype(float)"
   ]
  },
  {
   "cell_type": "code",
   "execution_count": null,
   "id": "23a5692a",
   "metadata": {},
   "outputs": [],
   "source": []
  },
  {
   "cell_type": "markdown",
   "id": "1d6fa98e",
   "metadata": {},
   "source": [
    "### Задача 11"
   ]
  },
  {
   "cell_type": "markdown",
   "id": "7f48c791",
   "metadata": {},
   "source": [
    "Напишите функцию, которая определяет есть ли в 2D массиве нулевые столбцы."
   ]
  },
  {
   "cell_type": "code",
   "execution_count": null,
   "id": "e391bb1e",
   "metadata": {},
   "outputs": [],
   "source": []
  },
  {
   "cell_type": "markdown",
   "id": "0a381051",
   "metadata": {},
   "source": [
    "### Задача 12\n",
    "\n",
    "Найдите наиболее частое значение в массиве."
   ]
  },
  {
   "cell_type": "code",
   "execution_count": null,
   "id": "f4f41b44",
   "metadata": {},
   "outputs": [],
   "source": []
  },
  {
   "cell_type": "markdown",
   "id": "317734a2",
   "metadata": {},
   "source": [
    "### Задача 13"
   ]
  },
  {
   "cell_type": "markdown",
   "id": "f343be79",
   "metadata": {},
   "source": [
    "Найдите наиболее частое значение в массиве."
   ]
  },
  {
   "cell_type": "code",
   "execution_count": null,
   "id": "1c3fc8ae",
   "metadata": {},
   "outputs": [],
   "source": []
  },
  {
   "cell_type": "markdown",
   "id": "93d451d1",
   "metadata": {},
   "source": [
    "### Задача 14(2 балла)\n",
    "\n",
    "Создайте класс Matrix, добавьте в него методы сложения, умножения, транспонирования, возведения в степень."
   ]
  },
  {
   "cell_type": "code",
   "execution_count": null,
   "id": "9c96a0d1",
   "metadata": {},
   "outputs": [],
   "source": []
  },
  {
   "cell_type": "markdown",
   "id": "cb24f207",
   "metadata": {},
   "source": [
    "### Задача 15\n",
    "\n",
    "Пусть дано n, матрица A. Напишите функцию, вычисляющую ряд: $A + A^2 + ... A^n$."
   ]
  },
  {
   "cell_type": "code",
   "execution_count": null,
   "id": "61996b01",
   "metadata": {},
   "outputs": [],
   "source": []
  }
 ],
 "metadata": {
  "kernelspec": {
   "display_name": "Python 3 (ipykernel)",
   "language": "python",
   "name": "python3"
  },
  "language_info": {
   "codemirror_mode": {
    "name": "ipython",
    "version": 3
   },
   "file_extension": ".py",
   "mimetype": "text/x-python",
   "name": "python",
   "nbconvert_exporter": "python",
   "pygments_lexer": "ipython3",
   "version": "3.12.0"
  }
 },
 "nbformat": 4,
 "nbformat_minor": 5
}
