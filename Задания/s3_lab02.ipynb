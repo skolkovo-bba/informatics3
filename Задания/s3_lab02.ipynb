{
 "cells": [
   {
   "cell_type": "markdown",
   "id": "2b2ed11e",
   "metadata": {},
   "source": [
    "- title: Занятие 2\n",
    "- author: Ivan Stepenov\n",
    "- date: 2023-10-20\n",
    "- slug: s3_lab02\n",
    "- ipynb_url: download/s3_lab02.ipynb"
   ]
  },
  {
   "cell_type": "markdown",
   "id": "bb8ec5a5",
   "metadata": {},
   "source": [
    "Цель сегодняшнего семинара разобраться с некоторыми продвинутыми инструментами языка Python. \n",
    "А именно:\n",
    "1. Itertools\n",
    "2. Лямбда-функции\n",
    "3. Генераторы\n",
    "4. ООП"
   ]
  },
  {
   "cell_type": "markdown",
   "id": "890ea1e0",
   "metadata": {},
   "source": [
    "## 1. Itertools"
   ]
  },
  {
   "cell_type": "markdown",
   "id": "39a15be3",
   "metadata": {},
   "source": [
    "Itertools включает в себя набор эффективных по памяти инструментов, которые могут быть вам полезны. Все типы итераторов можно разделить на три класса:\n",
    "1. Бесконечные \n",
    "2. Конечные \n",
    "3. Комбинаторные"
   ]
  },
  {
   "cell_type": "markdown",
   "id": "91240621",
   "metadata": {},
   "source": [
    "Мы можем проходиться по итератору с помощью:\n",
    "1. функции «next»\n",
    "2. конвертации в список с помощью list()\n",
    "3. цикла for"
   ]
  },
  {
   "cell_type": "markdown",
   "id": "3242a047",
   "metadata": {},
   "source": [
    "### 1.1 Itertools(бесконечные)"
   ]
  },
  {
   "cell_type": "markdown",
   "id": "82d7c0e8",
   "metadata": {},
   "source": [
    "***1. itertools.count(start=0, step=1)***\n",
    "\n",
    "Создаёт итератор, возвращающий равномерно распределенные значения, начиная с number start."
   ]
  },
  {
   "cell_type": "code",
   "execution_count": 7,
   "id": "1d5bea3e",
   "metadata": {},
   "outputs": [
    {
     "name": "stdout",
     "output_type": "stream",
     "text": [
      "5\n",
      "7\n",
      "9\n"
     ]
    }
   ],
   "source": [
    "import itertools\n",
    "c=itertools.count(5, 2)\n",
    "print(next(c)) #выведем первый элемент\n",
    "print(next(c)) #выведем второй элемент\n",
    "print(next(c)) #выведем третий элемент\n",
    "# можем делать так до бесконечности"
   ]
  },
  {
   "cell_type": "markdown",
   "id": "0c61dc45",
   "metadata": {},
   "source": [
    "***2. itertools.cycle(iterable)***\n",
    "\n",
    "Создаёт итератор, возвращающий элементы из итерируемого объекта и сохраняющий копию каждого из них."
   ]
  },
  {
   "cell_type": "code",
   "execution_count": 9,
   "id": "54626743",
   "metadata": {},
   "outputs": [
    {
     "name": "stdout",
     "output_type": "stream",
     "text": [
      "1\n",
      "2\n",
      "3\n",
      "4\n",
      "1\n"
     ]
    }
   ],
   "source": [
    "l = [1, 2, 3, 4] # создаём список\n",
    "c=itertools.cycle(l)\n",
    "print(next(c)) #выведем первый элемент\n",
    "print(next(c)) #выведем второй элемент\n",
    "print(next(c)) #выведем третий элемент\n",
    "print(next(c)) #выведем четвёртый элемент\n",
    "print(next(c)) #выведем следующий элемент(в данном случае первый)\n",
    "# можем делать так до бесконечности"
   ]
  },
  {
   "cell_type": "markdown",
   "id": "563d2fdc",
   "metadata": {},
   "source": [
    "### 1.2 Itertools(конечные)"
   ]
  },
  {
   "cell_type": "markdown",
   "id": "addc4684",
   "metadata": {},
   "source": [
    "***1. itertools.accumulate(iterable[, func, *, initial=None])***\n",
    "\n",
    "Создаёт итератор, возвращающий накопленные суммы, или накопленные результаты других бинарных функций(указываются через необязательный аргумент func)."
   ]
  },
  {
   "cell_type": "code",
   "execution_count": 14,
   "id": "0f4c087b",
   "metadata": {
    "scrolled": true
   },
   "outputs": [
    {
     "name": "stdout",
     "output_type": "stream",
     "text": [
      "[1, 4, 9, 16, 25]\n"
     ]
    }
   ],
   "source": [
    "l = itertools.accumulate([1,3,5,7,9])\n",
    "print(list(l))"
   ]
  },
  {
   "cell_type": "markdown",
   "id": "6ffb9fd9",
   "metadata": {},
   "source": [
    "***2. itertools.chain(*iterables)***"
   ]
  },
  {
   "cell_type": "code",
   "execution_count": 15,
   "id": "9546aaae",
   "metadata": {},
   "outputs": [
    {
     "name": "stdout",
     "output_type": "stream",
     "text": [
      "['a', 'b', 1, 2, 3, 's', 'f', 'a', 'p', 'r']\n"
     ]
    }
   ],
   "source": [
    "l = itertools.chain([\"a\",\"b\"],[1,2,3],\"sfapr\")\n",
    "print(list(l))"
   ]
  },
  {
   "cell_type": "markdown",
   "id": "1ac93a99",
   "metadata": {},
   "source": [
    "Ещё больше о конечных итераторах и вообще об итераторах можно почитать здесь: https://docs.python.org/3/library/itertools.html"
   ]
  },
  {
   "cell_type": "markdown",
   "id": "f7f6b283",
   "metadata": {},
   "source": [
    "### 1.3 Itertools(комбинаторные)\n",
    "\n",
    "***1. itertools.product(*iterables, repeat=1)***"
   ]
  },
  {
   "cell_type": "markdown",
   "id": "a72f2e87",
   "metadata": {},
   "source": [
    "Прямое или декартово произведе́ние двух непустых множеств — множество, элементами\n",
    "которого являются все возможные упорядоченные пары элементов исходных множеств.\n",
    "\n",
    "***Itertools.product реализует декартово произведение.***"
   ]
  },
  {
   "cell_type": "code",
   "execution_count": 30,
   "id": "7e39c931",
   "metadata": {
    "scrolled": true
   },
   "outputs": [
    {
     "name": "stdout",
     "output_type": "stream",
     "text": [
      "[('X', 1), ('X', 2), ('Y', 1), ('Y', 2)]\n"
     ]
    }
   ],
   "source": [
    "l = itertools.product(\"XY\",[1,2])\n",
    "print(list(l))"
   ]
  },
  {
   "cell_type": "markdown",
   "id": "c5764340",
   "metadata": {},
   "source": [
    "### Задача 1\n",
    "\n",
    "Пусть даны два множества. l1 = [1, 2, 3, 4, 5] и l2 = [2, 3, 4]. Найдите декартово произведение :\n",
    "1. l1 и l2\n",
    "2. пересечения(l1 и l2) и l2\n",
    "3. объединения(l1 и l2) и l1\n",
    "\n",
    "Создайте свои два множества и найдите декартовы произведения(1-3) для них. "
   ]
  },
  {
   "cell_type": "markdown",
   "id": "e790a199",
   "metadata": {},
   "source": [
    "***2. itertools.permutations(iterable, r=None)***\n",
    "\n",
    "***Возвращает последовательные перестановки длины r в итерируемом объекте.***"
   ]
  },
  {
   "cell_type": "code",
   "execution_count": 32,
   "id": "64b1e2c3",
   "metadata": {
    "scrolled": true
   },
   "outputs": [
    {
     "name": "stdout",
     "output_type": "stream",
     "text": [
      "[('X', 'Y', 'x'), ('X', 'Y', 'y'), ('X', 'x', 'Y'), ('X', 'x', 'y'), ('X', 'y', 'Y'), ('X', 'y', 'x'), ('Y', 'X', 'x'), ('Y', 'X', 'y'), ('Y', 'x', 'X'), ('Y', 'x', 'y'), ('Y', 'y', 'X'), ('Y', 'y', 'x'), ('x', 'X', 'Y'), ('x', 'X', 'y'), ('x', 'Y', 'X'), ('x', 'Y', 'y'), ('x', 'y', 'X'), ('x', 'y', 'Y'), ('y', 'X', 'Y'), ('y', 'X', 'x'), ('y', 'Y', 'X'), ('y', 'Y', 'x'), ('y', 'x', 'X'), ('y', 'x', 'Y')]\n"
     ]
    }
   ],
   "source": [
    "l = itertools.permutations('XYxy', r = 3)\n",
    "print(list(l))"
   ]
  },
  {
   "cell_type": "markdown",
   "id": "ec537025",
   "metadata": {},
   "source": [
    "### Задача 2\n",
    "\n",
    "Решите, используя permutations. Сколько существует различных трёхзначных чисел, в записи которых первая цифра больше третьей?"
   ]
  },
  {
   "cell_type": "code",
   "execution_count": null,
   "id": "5a5fb762",
   "metadata": {},
   "outputs": [],
   "source": []
  },
  {
   "cell_type": "markdown",
   "id": "e758465c",
   "metadata": {},
   "source": [
    "***3. itertools.combinations(iterable, r)***\n",
    "\n",
    "Возвращает подпоследовательности длины r из элементов итерируемого объекта, подаваемого на вход. Посмотрите пример, представленный далее. Поймите различия между ***combinations и permutations***."
   ]
  },
  {
   "cell_type": "code",
   "execution_count": 39,
   "id": "08aebc0d",
   "metadata": {},
   "outputs": [
    {
     "name": "stdout",
     "output_type": "stream",
     "text": [
      "[('1', '2', 'X'), ('1', '2', 'Y'), ('1', 'X', 'Y'), ('2', 'X', 'Y')]\n"
     ]
    }
   ],
   "source": [
    "import itertools\n",
    "l = itertools.combinations('12XY', r = 3)\n",
    "print(list(l))"
   ]
  },
  {
   "cell_type": "markdown",
   "id": "34f569f2",
   "metadata": {},
   "source": [
    "### Задача 3\n",
    "\n",
    "Решите, используя combinations. В хоровом кружке занимаются 15 человек. Необходимо выбрать трёх певцов. Сколькими способами это можно сделать?\n"
   ]
  },
  {
   "cell_type": "code",
   "execution_count": null,
   "id": "0174c17f",
   "metadata": {},
   "outputs": [],
   "source": []
  },
  {
   "cell_type": "markdown",
   "id": "9eba4912",
   "metadata": {},
   "source": [
    "### Задача 4\n",
    "\n",
    "Решите, используя combinations. Сколько различных четырёхзначных чисел, делящихся на 3, можно \n",
    "составить из цифр 1, 2, 3, 4, если цифры в записи могут повторяться?\n"
   ]
  },
  {
   "cell_type": "code",
   "execution_count": null,
   "id": "7337943f",
   "metadata": {},
   "outputs": [],
   "source": []
  },
  {
   "cell_type": "markdown",
   "id": "97398f74",
   "metadata": {},
   "source": [
    "## 2. Лямбда-функции\n",
    "\n",
    "***Лямбда-функции*** иногда называют анонимными функциями, так как для определения такой функции не используется название. Рассмотрим пример кода, делающего одно и тоже, с использованием лямбда-функции или же обычной функции."
   ]
  },
  {
   "cell_type": "code",
   "execution_count": 40,
   "id": "37f862d2",
   "metadata": {},
   "outputs": [
    {
     "name": "stdout",
     "output_type": "stream",
     "text": [
      "36\n"
     ]
    }
   ],
   "source": [
    "def square(x):\n",
    "    return x * x\n",
    "print(square(6))"
   ]
  },
  {
   "cell_type": "code",
   "execution_count": 51,
   "id": "1fbf6db0",
   "metadata": {
    "scrolled": true
   },
   "outputs": [
    {
     "name": "stdout",
     "output_type": "stream",
     "text": [
      "36\n"
     ]
    }
   ],
   "source": [
    "square_lamda = lambda x: x * x\n",
    "print(square_lamda(6))"
   ]
  },
  {
   "cell_type": "markdown",
   "id": "43790fc9",
   "metadata": {},
   "source": [
    "**Лямбда-функции, порой, используют вместе с такими встроенными функциями как filter(), map(), reduce(), min(), max().**"
   ]
  },
  {
   "cell_type": "code",
   "execution_count": 47,
   "id": "29e247c7",
   "metadata": {},
   "outputs": [
    {
     "name": "stdout",
     "output_type": "stream",
     "text": [
      "[3, 6, 9]\n"
     ]
    }
   ],
   "source": [
    "# Выводим все числа из спика кратные 3\n",
    "first_l = [1, 2, 3, 4, 5, 6, 7, 8, 9, 10]\n",
    "l_with_3 = list(filter(lambda x: (x%3 == 0), first_l))\n",
    "print(l_with_3)"
   ]
  },
  {
   "cell_type": "code",
   "execution_count": 49,
   "id": "f0c7e7e3",
   "metadata": {
    "scrolled": true
   },
   "outputs": [
    {
     "name": "stdout",
     "output_type": "stream",
     "text": [
      "[1, 4, 9, 16, 25, 36, 49, 64, 81, 100]\n"
     ]
    }
   ],
   "source": [
    "# Возведём в квадрат каждое число списка\n",
    "second_l = [1, 2, 3, 4, 5, 6, 7, 8, 9, 10]\n",
    "l_with_square = list(map(lambda x: x * x , second_l))\n",
    "print(l_with_square)"
   ]
  },
  {
   "cell_type": "markdown",
   "id": "8b05b42c",
   "metadata": {},
   "source": [
    "**Лямбда-функция может принимать несколько переменных на вход.** "
   ]
  },
  {
   "cell_type": "code",
   "execution_count": 50,
   "id": "4f4a29f3",
   "metadata": {},
   "outputs": [
    {
     "name": "stdout",
     "output_type": "stream",
     "text": [
      "7\n"
     ]
    }
   ],
   "source": [
    "my_sum = lambda x, y: x + y\n",
    "print(my_sum(3, 4))"
   ]
  },
  {
   "cell_type": "markdown",
   "id": "79b39300",
   "metadata": {},
   "source": [
    "***Лямбда-функции и условные операторы***\n",
    "\n",
    "Следующий код выводит минимальное среди двух чисел:"
   ]
  },
  {
   "cell_type": "code",
   "execution_count": 54,
   "id": "938e2183",
   "metadata": {},
   "outputs": [
    {
     "name": "stdout",
     "output_type": "stream",
     "text": [
      "1\n"
     ]
    }
   ],
   "source": [
    "min_number = lambda a, b : a if a > b else a\n",
    "print(min_number(1, 5))"
   ]
  },
  {
   "cell_type": "markdown",
   "id": "3ecfb8b5",
   "metadata": {},
   "source": [
    "Всё-таки ***Лямбда-функции*** не стоит использовать с условными оператороми. В классическом виде код выглядит намного адекватнее. "
   ]
  },
  {
   "cell_type": "code",
   "execution_count": 1,
   "id": "66b835bf",
   "metadata": {},
   "outputs": [
    {
     "name": "stdout",
     "output_type": "stream",
     "text": [
      "1\n"
     ]
    }
   ],
   "source": [
    "def min_number(a, b):\n",
    "    if a > b:\n",
    "        return b\n",
    "    else:\n",
    "        return a\n",
    "    \n",
    "print(min_number(1, 5))"
   ]
  },
  {
   "cell_type": "markdown",
   "id": "74743a95",
   "metadata": {},
   "source": [
    "***Лямбда-функции*** можно использовать с обычными функциями. "
   ]
  },
  {
   "cell_type": "code",
   "execution_count": 2,
   "id": "d5d0f209",
   "metadata": {},
   "outputs": [
    {
     "name": "stdout",
     "output_type": "stream",
     "text": [
      "30\n"
     ]
    }
   ],
   "source": [
    "def my_mul(n):\n",
    "    return lambda x : x * n\n",
    "\n",
    "result = my_mul(2)\n",
    "print(result(15))"
   ]
  },
  {
   "cell_type": "markdown",
   "id": "58cf12bc",
   "metadata": {},
   "source": [
    "### Задача 5"
   ]
  },
  {
   "cell_type": "markdown",
   "id": "2bd2718f",
   "metadata": {},
   "source": [
    "Напишите лямбда-функцию, которая прибавляет 3 к заданному числу, переданному в качестве аргумента.\n",
    "\n",
    "Затем создайте лямбда-функцию, которая перемножает два аргумента и выводит результат. Продемонстрируйте их работу. "
   ]
  },
  {
   "cell_type": "code",
   "execution_count": null,
   "id": "f8fc4245",
   "metadata": {},
   "outputs": [],
   "source": []
  },
  {
   "cell_type": "markdown",
   "id": "68a22fa4",
   "metadata": {},
   "source": [
    "### Задача 6"
   ]
  },
  {
   "cell_type": "code",
   "execution_count": 6,
   "id": "081394d8",
   "metadata": {},
   "outputs": [],
   "source": [
    "l = [1, 3, 7, 4, 12, 8, 9, 0, 3, 3, 5, 6, 10]"
   ]
  },
  {
   "cell_type": "markdown",
   "id": "4f2512a3",
   "metadata": {},
   "source": [
    "Напишите лямбда-функцию, которая фильтрует список чисел, оставляя лишь чётные числа. \n",
    "\n",
    "Подсчитайте их число."
   ]
  },
  {
   "cell_type": "code",
   "execution_count": 8,
   "id": "ad9f064a",
   "metadata": {},
   "outputs": [],
   "source": [
    "l = ['a', 'e', 'f', 'g', 'p', 'b', 'i', 'y', 'u', 'd']"
   ]
  },
  {
   "cell_type": "markdown",
   "id": "2f5938d5",
   "metadata": {},
   "source": [
    "Напишите лямбда-функцию, которая фильтрует список символов, оставляя лишь буквы идущее в алфавите после j. \n",
    "\n",
    "P.S подумайте, как работает сравнение символов в Python."
   ]
  },
  {
   "cell_type": "code",
   "execution_count": null,
   "id": "6c600940",
   "metadata": {},
   "outputs": [],
   "source": []
  },
  {
   "cell_type": "markdown",
   "id": "32f266d3",
   "metadata": {},
   "source": [
    "### Задача 7"
   ]
  },
  {
   "cell_type": "markdown",
   "id": "382c611b",
   "metadata": {},
   "source": [
    "Напишите лямбда-функцию, проверяющую - является ли исходное слово палиндромом. "
   ]
  },
  {
   "cell_type": "code",
   "execution_count": null,
   "id": "7653c0bc",
   "metadata": {},
   "outputs": [],
   "source": []
  },
  {
   "cell_type": "markdown",
   "id": "b6d70aaf",
   "metadata": {},
   "source": [
    "## 3. Генераторы\n",
    "Генератор это подвид итерируемых объектов, таких как список или кортеж. Он генерирует для нас последовательность значений, которую мы можем перебрать. Однако их нельзя индексировать, т.е \"пройтись\" по генератору мы можем один раз. Для создания генератора в Python внутри функции вместо ключевого слова return используется ключевое слово yield. "
   ]
  },
  {
   "cell_type": "code",
   "execution_count": 10,
   "id": "00e565f0",
   "metadata": {},
   "outputs": [],
   "source": [
    "def generate_ints(N):\n",
    "    for i in range(N):\n",
    "        yield i"
   ]
  },
  {
   "cell_type": "code",
   "execution_count": 13,
   "id": "12d7550f",
   "metadata": {},
   "outputs": [
    {
     "name": "stdout",
     "output_type": "stream",
     "text": [
      "0\n",
      "1\n"
     ]
    }
   ],
   "source": [
    "gen = generate_ints(5)\n",
    "print(next(gen))\n",
    "print(next(gen))"
   ]
  },
  {
   "cell_type": "markdown",
   "id": "c6da8302",
   "metadata": {},
   "source": [
    "Или же мы могли сделать так:"
   ]
  },
  {
   "cell_type": "code",
   "execution_count": 17,
   "id": "b6783141",
   "metadata": {
    "scrolled": true
   },
   "outputs": [
    {
     "name": "stdout",
     "output_type": "stream",
     "text": [
      "0\n",
      "1\n",
      "2\n",
      "3\n",
      "4\n"
     ]
    }
   ],
   "source": [
    "for i in generate_ints(5):\n",
    "    print(i)"
   ]
  },
  {
   "cell_type": "markdown",
   "id": "1e8ed5ab",
   "metadata": {},
   "source": [
    "В чём же различия между ключивыми словами ***return*** и ***yield***.\n",
    "\n",
    "Когда интерпретатор доходит до слова return, то выполнение функции полностью прекращается.\n",
    "\n",
    "Когда он доходит до ключевого слова yield, программа приостанавливает выполнение функции и возвращает значение в итерируемый объект. Затем интерпретатор возвращается к генератору, чтобы повторить процесс для нового значения.\n",
    "Кроме того, при прекращении выполнения функции ее локальные переменные стираются. С генераторами не так."
   ]
  },
  {
   "cell_type": "code",
   "execution_count": 24,
   "id": "524da03c",
   "metadata": {},
   "outputs": [
    {
     "name": "stdout",
     "output_type": "stream",
     "text": [
      "1\n"
     ]
    }
   ],
   "source": [
    "# функция\n",
    "def fibonacci(n):\n",
    "    fib1, fib2 = 0, 1\n",
    "    for i in range(n):\n",
    "        fib1, fib2 = fib2, fib1 + fib2\n",
    "        return fib1\n",
    "print(fibonacci(10))"
   ]
  },
  {
   "cell_type": "code",
   "execution_count": 25,
   "id": "ca4a9c2c",
   "metadata": {},
   "outputs": [
    {
     "name": "stdout",
     "output_type": "stream",
     "text": [
      "1 1 2 3 5 8 13 21 34 55\n"
     ]
    }
   ],
   "source": [
    "# генератор\n",
    "def fibonacci(n):\n",
    "    fib1, fib2 = 0, 1\n",
    "    for i in range(n):\n",
    "        fib1, fib2 = fib2, fib1 + fib2\n",
    "        yield fib1\n",
    "print(*fibonacci(10))"
   ]
  },
  {
   "cell_type": "markdown",
   "id": "2a30d07c",
   "metadata": {},
   "source": [
    "### Задача 8"
   ]
  },
  {
   "cell_type": "markdown",
   "id": "fa9be8db",
   "metadata": {},
   "source": [
    "Напишите генератор factorials(n), генерирующий последовательность факториалов натуральных чисел."
   ]
  },
  {
   "cell_type": "code",
   "execution_count": null,
   "id": "044d58e2",
   "metadata": {},
   "outputs": [],
   "source": []
  },
  {
   "cell_type": "markdown",
   "id": "9a83c10d",
   "metadata": {},
   "source": [
    "### Задача 9"
   ]
  },
  {
   "cell_type": "markdown",
   "id": "87e62701",
   "metadata": {},
   "source": [
    "Напишите генератор binomial_coefficients(n), генерирующий последовательность биномиальных коэффициентов $\\binom{n}{0}$, $\\binom{n}{1}$, ... \n",
    "\n",
    "Используйте itertools."
   ]
  },
  {
   "cell_type": "code",
   "execution_count": null,
   "id": "4128934a",
   "metadata": {},
   "outputs": [],
   "source": []
  },
  {
   "cell_type": "markdown",
   "id": "760bc34c",
   "metadata": {},
   "source": [
    "## ООП"
   ]
  },
  {
   "cell_type": "markdown",
   "id": "6097e5b1",
   "metadata": {},
   "source": [
    "Подробнее об ООП можно почитать тут : https://smartiqa.ru/courses/python/lesson-6?ysclid=lnx08m5h3a397589593.\n",
    "\n",
    "Некторые материалы ноутбука по ООП взяты оттуда."
   ]
  },
  {
   "cell_type": "markdown",
   "id": "32542e16",
   "metadata": {},
   "source": [
    "### Создание класса"
   ]
  },
  {
   "cell_type": "markdown",
   "id": "0bdf07b0",
   "metadata": {},
   "source": [
    "Объявить класс можно следующим образом: \n",
    "```python\n",
    "class Example: \n",
    "    body\n",
    "```\n",
    "Напомним, что класс содержит атрибуты(переменную, метод, подкласс). Поля(переменные) могут быть как статистическими, так и динамическими. Для получения статистической переменной не нужно создавать экземпляр класса, а для динамических это будет сделать необходимо. "
   ]
  },
  {
   "cell_type": "code",
   "execution_count": 26,
   "id": "7bc59a07",
   "metadata": {},
   "outputs": [],
   "source": [
    "class Human:\n",
    "    default = \"human\"\n",
    "    def __init__(self, age):\n",
    "        self.age = age"
   ]
  },
  {
   "cell_type": "code",
   "execution_count": 28,
   "id": "886121f4",
   "metadata": {},
   "outputs": [
    {
     "data": {
      "text/plain": [
       "'human'"
      ]
     },
     "execution_count": 28,
     "metadata": {},
     "output_type": "execute_result"
    }
   ],
   "source": [
    "# не создавали экземпляр\n",
    "Human.default"
   ]
  },
  {
   "cell_type": "code",
   "execution_count": 31,
   "id": "50779243",
   "metadata": {},
   "outputs": [
    {
     "data": {
      "text/plain": [
       "25"
      ]
     },
     "execution_count": 31,
     "metadata": {},
     "output_type": "execute_result"
    }
   ],
   "source": [
    "# создали экземпляр\n",
    "h = Human(25)\n",
    "h.age"
   ]
  },
  {
   "cell_type": "markdown",
   "id": "1e8d99ea",
   "metadata": {},
   "source": [
    "Отметим, что можно легко менять атрибуты экземпляра класса. "
   ]
  },
  {
   "cell_type": "markdown",
   "id": "d60ceeaf",
   "metadata": {},
   "source": [
    "### Методы класса\n",
    "\n",
    "Метод – это функция внутри класса. \n",
    "Все методы можно разделить на 2 группы:\n",
    "1. Встроенные(служебные) методы(атрибуты)\n",
    "2. Пользовательские методы(атрибуты)"
   ]
  },
  {
   "cell_type": "markdown",
   "id": "3338b868",
   "metadata": {},
   "source": [
    "### Встроенные атрибуты\n",
    "\n",
    "Ими являются:\n",
    "\n",
    "1. __new__(cls[, ...]) - Конструктор. Создает экземпляр(объект) класса. Сам класс передается в качестве аргумента.\n",
    "2. __init__(self[, ...]) - Инициализатор. Принимает свежесозданный объект класса из конструктора.\n",
    "3. __del__(self) - Деструктор. Вызывается при удалении объекта сборщиком мусора.\n",
    "4. __str__(self) - Возвращает строковое представление объекта.\n",
    "5. __hash__(self) - Возвращает хэш-сумму объекта.\n",
    "6. __dict__ - Словарь, в котором хранится пространство имен класса."
   ]
  },
  {
   "cell_type": "markdown",
   "id": "b1001240",
   "metadata": {},
   "source": [
    "### Пользовательские атрибуты"
   ]
  },
  {
   "cell_type": "markdown",
   "id": "8e8cbc78",
   "metadata": {},
   "source": [
    "Это атрибуты, которые составляют основной функционал класса. Пользовательские атрибуты \n",
    "пишутся программистом во время реализации класса. "
   ]
  },
  {
   "cell_type": "markdown",
   "id": "c1f3be4f",
   "metadata": {},
   "source": [
    "### Уровни доступа атрибутов в Python"
   ]
  },
  {
   "cell_type": "markdown",
   "id": "c983b320",
   "metadata": {},
   "source": [
    "1. Private. Приватные члены класса недоступны извне - с ними можно работать только внутри класса.\n",
    "2. Public. Публичные методы наоборот - открыты для работы снаружи и, как правило, объявляются публичными сразу по-умолчанию.\n",
    "3. Protected. Доступ к защищенным ресурсам класса возможен только внутри этого класса и также внутри унаследованных от него классов (иными словами, внутри классов-потомков). Больше никто доступа к ним не имеет."
   ]
  },
  {
   "cell_type": "markdown",
   "id": "46398d59",
   "metadata": {},
   "source": [
    "1. Если переменная/метод начинается с одного нижнего подчеркивания (_protected_example), то она/он считается защищенным (protected).\n",
    "2. Если переменная/метод начинается с двух нижних подчеркиваний (__private_example), то она/он считается приватным (private)."
   ]
  },
  {
   "cell_type": "code",
   "execution_count": 44,
   "id": "f505fe4d",
   "metadata": {},
   "outputs": [
    {
     "name": "stdout",
     "output_type": "stream",
     "text": [
      "price:  1200\n"
     ]
    }
   ],
   "source": [
    "# Создаём класс книга\n",
    "class Book:\n",
    "\n",
    "    def __init__(self, title, author, price):\n",
    "        # Объявляем приватное поле title и author\n",
    "        self.__title = title\n",
    "        self.__author = author\n",
    "        # Объявляем публичное поле\n",
    "        self.price = price\n",
    "    \n",
    "    # метод узнать цену книги\n",
    "    def what_is_the_price(self):\n",
    "        print('price: ', self.price)\n",
    "        \n",
    "# создаём экземпляр класса\n",
    "book1 = Book('War and Peace', 'Tolstoy L. N.', 1200)\n",
    "# узнаём цену книги\n",
    "book1.what_is_the_price()"
   ]
  },
  {
   "cell_type": "markdown",
   "id": "880ff666",
   "metadata": {},
   "source": [
    "### Наследование в Python"
   ]
  },
  {
   "cell_type": "markdown",
   "id": "08050401",
   "metadata": {},
   "source": [
    "Механизм наследования позволяет создать новый класс на основе уже существующего. \n",
    "Новый класс включает в себя как атрибуты родительского класса и новые, собственные атрибуты.\n",
    "Эти новые атрибуты и отличают свежесозданный класс от его родителя."
   ]
  },
  {
   "cell_type": "code",
   "execution_count": 49,
   "id": "99a40414",
   "metadata": {},
   "outputs": [],
   "source": [
    "# родительский класс\n",
    "class Book:\n",
    "\n",
    "    def __init__(self, title, author, price):\n",
    "        # Объявляем приватное поле title и author\n",
    "        self.__title = title\n",
    "        self.__author = author\n",
    "        # Объявляем публичное поле\n",
    "        self.price = price\n",
    "    \n",
    "    # метод узнать цену книги\n",
    "    def what_is_the_price(self):\n",
    "        print('price: ', self.price)\n",
    "        \n",
    "# унаследованный класс(электронная книга)\n",
    "\n",
    "class eBook(Book):\n",
    "    # Добавляем новое свойство качество\n",
    "    def __init__(self, quality):\n",
    "        super().__init__()\n",
    "        self.quality = quality\n",
    "    \n",
    "    # \n",
    "    def what_is_the_quality(self):\n",
    "        super().__init__()\n",
    "        print('price: ', self.quality)"
   ]
  },
  {
   "cell_type": "markdown",
   "id": "f15b9d9e",
   "metadata": {},
   "source": [
    "Что это за метод super?\n",
    "\n",
    "Главная задача этого метода - дать возможность наследнику обратиться к родительскому классу.\n",
    "В классе родителе Book свой инициализатор, и когда в потомке eBook мы так же создаем инициализатор, то мы его перегружаем.\n",
    "Иными словами, мы заменяем родительский метод __init__() собственным одноименным методом. Это чревато тем,\n",
    "что родительский метод просто в принципе не будет вызван, и мы потеряем его функционал в классе наследнике. \n",
    "\n",
    "Решается эта проблема так - внутри инициализатора класса-наследника вызвать инициализатор родителя(для этого вызываем метод super().__init__())\n",
    "\n",
    "А затем просто добавить новый функционал!"
   ]
  },
  {
   "cell_type": "markdown",
   "id": "9e640b61",
   "metadata": {},
   "source": [
    "### Задача 10(3 балла)"
   ]
  },
  {
   "cell_type": "markdown",
   "id": "123a1944",
   "metadata": {},
   "source": [
    "Создайте класс Alphabet.\n",
    "\n",
    "***1.1*** Создайте метод __init__(), внутри которого будут определены три динамических параметра(свойства): \n",
    "    1) lang - язык и 2) letters_vowel - список гласных букв и 3) letters_consonant - список согласных букв. \n",
    "    \n",
    "Начальные значения свойств берутся из входных параметров метода.\n",
    "\n",
    "***1.2*** Создайте методы print_vowel() и print_consonant(), который выведет в консоль гласные и согласные буквы алфавита.\n",
    "\n",
    "***1.3*** Создайте методы vowel_num() и consonant_num(), который вернет количество гласных и согласных букв в алфавите. \n",
    "\n",
    "***1.4*** Создайте класс RusAlphabet путем наследования от класса Alphabet.\n",
    "\n",
    "***1.5*** Создайте метод __init__(), внутри которого будет вызываться родительский метод __init__(). В качестве параметров ему будут передаваться обозначение языка(например, 'Rus') и строка, состоящая из всех букв алфавита.\n",
    "\n",
    "***1.6*** Создайте метод is_rus_letter(), который будет принимать букву в качестве параметра и определять, относится ли эта буква к английскому алфавиту.\n",
    "\n",
    "***1.7*** Создайте статический метод example(), который будет возвращать пример текста на русском языке.\n",
    "\n",
    "***1.8*** Создайте объект класса RusAlphabet, выведите буквы для этого алфавита, число гласных и согласных букв. \n",
    "\n",
    "***1.9*** Выведите пример текста на русском языке, используя example(). \n",
    "\n",
    "***1.10*** Проверьте принадлежность нескольких букв к Алфавиту."
   ]
  },
  {
   "cell_type": "code",
   "execution_count": null,
   "id": "04949dcc",
   "metadata": {},
   "outputs": [],
   "source": []
  },
  {
   "cell_type": "markdown",
   "id": "b40531a6",
   "metadata": {},
   "source": [
    "### Задача 11(3 балла)"
   ]
  },
  {
   "cell_type": "markdown",
   "id": "5c71cd14",
   "metadata": {},
   "source": [
    "Создайте класс, представляющий структуру данных стека. Включите методы:\n",
    "1. добавление элемента (иначе проталкивание, push)\n",
    "2. удаление элемента (pop)\n",
    "3. чтение головного элемента (peek)\n",
    "4. вычисления размера стека\n",
    "5. проверка стека на пустоту"
   ]
  },
  {
   "cell_type": "code",
   "execution_count": null,
   "id": "5efe4788",
   "metadata": {},
   "outputs": [],
   "source": []
  },
  {
   "cell_type": "markdown",
   "id": "57d15a85",
   "metadata": {},
   "source": [
    "### Задача 12(3 балла)"
   ]
  },
  {
   "cell_type": "markdown",
   "id": "819aa673",
   "metadata": {},
   "source": [
    "Реализуёте мини-книжный магазин. У книги есть название (title), цена (price), жанр (genre).\n",
    "Покупатель покупает книги, например передаёт список необходимых книг магазину, а магазин выставляет счёт. \n",
    "Магазин имеет скидки.\n",
    "1. за две разных книжки 5%\n",
    "2. за пять разных книг 10%\n",
    "3. скидки не суммируются, например, 11 разных книг - 10% на все.\n",
    "\n",
    "Реализуйте функцию, которая на вход получает список книг, а на выходе выдаёт цену и название книг или говорит о том, что книг нет в наличие. Используёте ООП, создав необходимый класс или классы. "
   ]
  },
  {
   "cell_type": "code",
   "execution_count": null,
   "id": "d6a315b8",
   "metadata": {},
   "outputs": [],
   "source": []
  }
 ],
 "metadata": {
  "kernelspec": {
   "display_name": "Python 3 (ipykernel)",
   "language": "python",
   "name": "python3"
  },
  "language_info": {
   "codemirror_mode": {
    "name": "ipython",
    "version": 3
   },
   "file_extension": ".py",
   "mimetype": "text/x-python",
   "name": "python",
   "nbconvert_exporter": "python",
   "pygments_lexer": "ipython3",
   "version": "3.9.13"
  }
 },
 "nbformat": 4,
 "nbformat_minor": 5
}
