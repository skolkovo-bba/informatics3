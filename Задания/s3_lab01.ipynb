{
 "cells": [
  {
   "cell_type": "markdown",
   "id": "3ba7dad4",
   "metadata": {},
   "source": [
    "- title: Занятие 1\n",
    "- author: Ivan Stepenov\n",
    "- date: 2023-10-13\n",
    "- slug: s3_lab01\n",
    "- ipynb_url: download/s3_lab01.ipynb"
   ]
  },
  {
   "cell_type": "markdown",
   "id": "a6c383a1",
   "metadata": {},
   "source": [
    "# Лабораторная работа 1"
   ]
  },
  {
   "cell_type": "markdown",
   "id": "8e03cf51",
   "metadata": {},
   "source": [
    "Цель сегодняшнего семинара вспомнить базовые инструменты языка Python, разбиравшиеся вами в прошлом году. \n",
    "А именно:\n",
    "1. Циклы и вложенные циклы.\n",
    "2. Списки.\n",
    "3. Строки.\n",
    "4. Функции.\n",
    "5. Множества(set), словари(dict).\n",
    "6. Itertools"
   ]
  },
  {
   "cell_type": "markdown",
   "id": "0aebadf5",
   "metadata": {},
   "source": [
    "## 1. Циклы\n",
    "Циклы повторяют блок кода определенное количество раз и, очевидно, незаменимы в программировании. "
   ]
  },
  {
   "cell_type": "markdown",
   "id": "52bb16dd",
   "metadata": {},
   "source": [
    "## 1.1 while\n",
    "\n",
    "```python\n",
    "while условие цикла:\n",
    "    тело цикла\n",
    "```"
   ]
  },
  {
   "cell_type": "markdown",
   "id": "7daa239b",
   "metadata": {},
   "source": [
    "### Задача 1. \n",
    "Возведите число n в степень k, используя while\n",
    "```python\n",
    "n = int(input()) # число\n",
    "k = int(input()) # степень\n",
    "```"
   ]
  },
  {
   "cell_type": "code",
   "execution_count": null,
   "id": "6738e0b9",
   "metadata": {},
   "outputs": [],
   "source": []
  },
  {
   "cell_type": "markdown",
   "id": "1cccc63f",
   "metadata": {},
   "source": [
    "## 1.2 for\n",
    "```python\n",
    "for <итерация> in <итерируемый объект>:\n",
    "    тело\n",
    "```"
   ]
  },
  {
   "cell_type": "markdown",
   "id": "ebdc5af3",
   "metadata": {},
   "source": [
    "Функция range() возвращает последовательность чисел в заданном диапазоне. \n",
    "Выведем все числа от 0 до 10 включительно:"
   ]
  },
  {
   "cell_type": "code",
   "execution_count": 4,
   "id": "77ec57e7",
   "metadata": {
    "scrolled": true
   },
   "outputs": [
    {
     "name": "stdout",
     "output_type": "stream",
     "text": [
      "0 1 2 3 4 5 6 7 8 9 "
     ]
    }
   ],
   "source": [
    "for i in range(10):\n",
    "    print(i, end=\" \")"
   ]
  },
  {
   "cell_type": "markdown",
   "id": "e82df16b",
   "metadata": {},
   "source": [
    "Вспомним, что у range() есть аргументы - **range**(начало диапазона, конец диапазона, шаг). К примеру, мы можем вывести все нечётные числа от 1 до 30 таким образом.  "
   ]
  },
  {
   "cell_type": "code",
   "execution_count": 3,
   "id": "110e0498",
   "metadata": {},
   "outputs": [
    {
     "name": "stdout",
     "output_type": "stream",
     "text": [
      "1 3 5 7 9 11 13 15 17 19 21 23 25 27 29 "
     ]
    }
   ],
   "source": [
    "for i in range(1, 30, 2):\n",
    "    print(i, end=\" \")"
   ]
  },
  {
   "cell_type": "markdown",
   "id": "f42de631",
   "metadata": {},
   "source": [
    "### Задача 2. "
   ]
  },
  {
   "cell_type": "markdown",
   "id": "daa55ca6",
   "metadata": {},
   "source": [
    "Найдите сумму квадратов первых n натуральных чисел, используя цикл for. \n",
    "```python\n",
    "n = int(input()) # число\n",
    "```"
   ]
  },
  {
   "cell_type": "code",
   "execution_count": null,
   "id": "fd75a827",
   "metadata": {},
   "outputs": [],
   "source": []
  },
  {
   "cell_type": "markdown",
   "id": "9283b5da",
   "metadata": {},
   "source": [
    "### Задача 3"
   ]
  },
  {
   "cell_type": "markdown",
   "id": "e388d9c2",
   "metadata": {},
   "source": [
    "**Алгоритм нахождения НОД делением**. \n",
    "\n",
    "1. Пусть даны два числа A и B.\n",
    "2. Большее число делим на меньшее.\n",
    "3. Если делится без остатка, то меньшее число это НОД.\n",
    "4. Если есть остаток, то большее число заменяем на остаток от деления.\n",
    "5. Переходим к пункту 1.\n",
    "```python\n",
    "a = int(input())\n",
    "b = int(input()) \n",
    "while a != 0 and b != 0:\n",
    "    # ваш код\n",
    "print(a + b)\n",
    "```\n",
    "Реализуйте алгоритм нахождение НОД делением с помощью цикла while."
   ]
  },
  {
   "cell_type": "code",
   "execution_count": null,
   "id": "434b9fad",
   "metadata": {},
   "outputs": [],
   "source": []
  },
  {
   "cell_type": "markdown",
   "id": "c9af807f",
   "metadata": {},
   "source": [
    "В модуле math языка программирования Python есть функция gcd, вычисляющая НОД."
   ]
  },
  {
   "cell_type": "code",
   "execution_count": 5,
   "id": "3a355fca",
   "metadata": {},
   "outputs": [
    {
     "name": "stdout",
     "output_type": "stream",
     "text": [
      "20\n"
     ]
    }
   ],
   "source": [
    "import math\n",
    "print(math.gcd(40, 20))"
   ]
  },
  {
   "cell_type": "markdown",
   "id": "aaa59e5b",
   "metadata": {},
   "source": [
    "## 1.3 break и continue\n",
    "Важно понимать, что:\n",
    "\n",
    "1. **break** – досрочное завершение цикла\n",
    "2. **continue** – пропуск одной итерации цикла\n",
    "\n",
    "Рассмотрим два примера иллюстрирующих работу break и continue."
   ]
  },
  {
   "cell_type": "code",
   "execution_count": 8,
   "id": "8243f5d3",
   "metadata": {},
   "outputs": [
    {
     "name": "stdout",
     "output_type": "stream",
     "text": [
      "1 простое число\n",
      "2 простое число\n",
      "3 простое число\n",
      "4 равно 2 * 2\n",
      "5 простое число\n"
     ]
    }
   ],
   "source": [
    "for n in range(1, 6):\n",
    "    for x in range(2, n):\n",
    "        if n % x == 0:\n",
    "            print(n, 'равно', x, '*', n//x)\n",
    "            break\n",
    "    else:\n",
    "        print(n, 'простое число')"
   ]
  },
  {
   "cell_type": "code",
   "execution_count": 9,
   "id": "7a4e5956",
   "metadata": {
    "scrolled": true
   },
   "outputs": [
    {
     "name": "stdout",
     "output_type": "stream",
     "text": [
      "1 - это число нечётное\n",
      "2 - это число чётное\n",
      "3 - это число нечётное\n",
      "4 - это число чётное\n",
      "5 - это число нечётное\n"
     ]
    }
   ],
   "source": [
    "for num in range(1, 6):\n",
    "    if num % 2 == 0:\n",
    "        print(num, \"- это число чётное\")\n",
    "        continue\n",
    "    print(num, \"- это число нечётное\")"
   ]
  },
  {
   "cell_type": "markdown",
   "id": "cd13f0cd",
   "metadata": {},
   "source": [
    "## 2. Списки\n",
    "\n",
    "Вспомним некоторые вещи. Список — это упорядоченный набор элементов. При этом каждый элемент имеет свой индекс, нумерация начинается с 0. Списки в Python динамическими структурами данных, так можно удалить один или несколько элементов, заменить или добавить новые элементы.\n",
    "Вспомним некоторые действия со списками:\n",
    "```python\n",
    "1. Создание списка: a = [1, 5, 9]\n",
    "2. В одном списке одновременно могут находиться данные разных типов: a = ['hello', 2, True]\n",
    "3. Доступ к элементу: a[2]\n",
    "4. Срез списка от m до n + 1 с шагом k: a[m:n:k]\n",
    "5. Добавление элемента в конец списка: a.append(x)\n",
    "6. Вставка элемента на i позицию: a.insert(i, x)\n",
    "7. Удаление элемента со значение x: a.remove(x)\n",
    "8. Расчёт элементов списка: a.count(x)\n",
    "9. Сортировка списка: a.sort(*, key=None, reverse=False)\n",
    "```\n",
    "Подробнее о действия со списками можно почитать в документации:\n",
    "https://docs.python.org/3/tutorial/datastructures.html"
   ]
  },
  {
   "cell_type": "markdown",
   "id": "18d19434",
   "metadata": {},
   "source": [
    "### Задача 4\n",
    "Давайте поработаем со списками.\n",
    "1. Создайте список\n",
    "2. Продемонстрируйте доступ к элементу, срезы, добавление новых элементов, удаление элементов, подсчёт значение. \n",
    "3. Отсортируйте список методом sort по убыванию и возрастанию. "
   ]
  },
  {
   "cell_type": "code",
   "execution_count": null,
   "id": "51d23850",
   "metadata": {},
   "outputs": [],
   "source": []
  },
  {
   "cell_type": "markdown",
   "id": "ac04419e",
   "metadata": {},
   "source": [
    "### Задача 5 (Сортировка пузырьком)\n",
    "Суть алгоритма в следующем. \n",
    "\n",
    "Алгоритм состоит из повторяющихся проходов по сортируемому списку. За каждый проход элементы последовательно сравниваются попарно и, если порядок в паре неверный, выполняется перестановка элементов. Проходы по списку повторяются до тех пор, пока на очередном проходе не окажется, что обмены элементов больше не нужны, это значит, что список осортирован. \n",
    "\n",
    "Реализуйте данный алгоритм на Python, отсортировав следующий список:"
   ]
  },
  {
   "cell_type": "code",
   "execution_count": 12,
   "id": "0b7bb7ab",
   "metadata": {},
   "outputs": [
    {
     "name": "stdout",
     "output_type": "stream",
     "text": [
      "неотсортированный список: [89, 94, 87, 3, 88, 98, 92, 39, 61, 65, 70, 20, 16, 9, 93, 1, 18, 53, 41, 14, 84, 74, 53, 1, 100, 78, 9, 5, 51, 82, 90, 64, 44, 24, 36, 19, 64, 40, 51, 96, 42, 5, 58, 54, 78, 42, 84, 16, 100, 49]\n",
      "отсортированный список: [89, 94, 87, 3, 88, 98, 92, 39, 61, 65, 70, 20, 16, 9, 93, 1, 18, 53, 41, 14, 84, 74, 53, 1, 100, 78, 9, 5, 51, 82, 90, 64, 44, 24, 36, 19, 64, 40, 51, 96, 42, 5, 58, 54, 78, 42, 84, 16, 100, 49]\n"
     ]
    }
   ],
   "source": [
    "from random import randint\n",
    "n = 50\n",
    "a = []\n",
    "# создаём список из 50 элементов со случ. числами от 1 до 100.\n",
    "for i in range(n):\n",
    "    a.append(randint(1, 100))\n",
    "print('неотсортированный список:', a)\n",
    "# ваша сортировка:\n",
    "\n",
    "\n",
    "# \n",
    "print('отсортированный список:', a)"
   ]
  },
  {
   "cell_type": "markdown",
   "id": "ba8d9102",
   "metadata": {},
   "source": [
    "Подумайте, сколько сравнений будет совершенно в худшем случае.\n",
    "\n",
    "**Ваш ответ:**\n",
    "\n",
    "Посчитайте сколько сравнений совершает ваш алгоритм. \n",
    "\n",
    "**Ваш ответ:**"
   ]
  },
  {
   "cell_type": "markdown",
   "id": "587f2666",
   "metadata": {},
   "source": [
    "## 3. Строки\n",
    "Строка в Python — тип данных, который хранит в себе набор символов произвольной длины.\n",
    "Для создания строки в Python используются двойные или одинарные кавычки. \n",
    "```python\n",
    "s = 'hello'\n",
    "s = \"hello\"\n",
    "```\n",
    "Рассмотрим базовые операции со строками: \n",
    "```python\n",
    "1. Дублирование строки: print('hello' * 2)\n",
    "2. Конкатенация строк: print('hello' + 'World')\n",
    "3. Длина строки (функция len): len('hello')\n",
    "4. Доступ по индексу: s[1]\n",
    "5. Срезы строк: s[1:3]\n",
    "```"
   ]
  },
  {
   "cell_type": "markdown",
   "id": "97055f4c",
   "metadata": {},
   "source": [
    "### Задача 6\n",
    "Давайте поработаем со строками.\n",
    "1. Создайте строку.\n",
    "2. Продемонстрируйте дублирование строки, конкатенацию, доступ по индексу, срезы строк. "
   ]
  },
  {
   "cell_type": "code",
   "execution_count": null,
   "id": "177e2121",
   "metadata": {},
   "outputs": [],
   "source": []
  },
  {
   "cell_type": "markdown",
   "id": "8973bef9",
   "metadata": {},
   "source": [
    "### Задача 7. \n",
    "Напишите программу, которая определяет, является ли данное слово палиндромом, не используя reversed. "
   ]
  },
  {
   "cell_type": "code",
   "execution_count": null,
   "id": "2c8ffbbf",
   "metadata": {},
   "outputs": [],
   "source": []
  },
  {
   "cell_type": "markdown",
   "id": "01602199",
   "metadata": {},
   "source": [
    "С использованием reversed решение выглядит компактнее, но зато мы поработали со строками:)"
   ]
  },
  {
   "cell_type": "code",
   "execution_count": 14,
   "id": "34c85f7b",
   "metadata": {
    "scrolled": false
   },
   "outputs": [
    {
     "name": "stdout",
     "output_type": "stream",
     "text": [
      "hello\n",
      "Не палиндромом\n"
     ]
    }
   ],
   "source": [
    "s = input()\n",
    "rev_s = reversed(s)\n",
    "if list(s) == list(rev_s):\n",
    "   print(\"Палиндромом\")\n",
    "else:\n",
    "   print(\"Не палиндромом\")"
   ]
  },
  {
   "cell_type": "markdown",
   "id": "f0338bee",
   "metadata": {},
   "source": [
    "## 4. Функции\n",
    "Вспомним функции в Python. Функция - это именованный блок кода. Функция имеет имя, список аргументов и возвращаемое значение.\n",
    "Синтаксис функции представлен следующим образом:\n",
    "```python\n",
    "def function_name(arg1, arg2, ...):\n",
    "    # тело функции\n",
    "```"
   ]
  },
  {
   "cell_type": "markdown",
   "id": "c5f5a327",
   "metadata": {},
   "source": [
    "### Задача 8(Числа Фибоначчи). \n",
    "Последовательность чисел Фибоначчи $F_{n}$ задаётся линейным рекуррентным соотношением: $F_0 = 0, F_1 = 1, F_n = F_{n-1} + F_{n-2}$.\n",
    "\n",
    "Напишите функцию **fib**, которая возвращает n-ное число Фибоначчи. Используейте цикл!"
   ]
  },
  {
   "cell_type": "code",
   "execution_count": null,
   "id": "6ae2a56f",
   "metadata": {},
   "outputs": [],
   "source": [
    "def fib(n):\n",
    "    # тело функции\n",
    "    \n",
    "    \n",
    "n = int(input())\n",
    "print(fib(10))"
   ]
  },
  {
   "cell_type": "markdown",
   "id": "39b33f76",
   "metadata": {},
   "source": [
    "Теперь поговорим о рекурсии.  С точки зрения функций рекурсия – это функция, которая сама вызывает себя. Рассмотрим классическую задачу нахождение факторила числа. С помощью рекурсии можно получить вполне компактный код."
   ]
  },
  {
   "cell_type": "code",
   "execution_count": 15,
   "id": "7df73337",
   "metadata": {},
   "outputs": [
    {
     "name": "stdout",
     "output_type": "stream",
     "text": [
      "120\n"
     ]
    }
   ],
   "source": [
    "def factorial_rec(n):\n",
    "    if n == 1:\n",
    "        return n\n",
    "    else:\n",
    "        return n*factorial_rec(n-1)\n",
    "\n",
    "print(factorial_rec(5))"
   ]
  },
  {
   "cell_type": "markdown",
   "id": "682a9f73",
   "metadata": {},
   "source": [
    "Кроме того, с помощью рекурсии можно вычислить n-ое число Фибоначчи. "
   ]
  },
  {
   "cell_type": "markdown",
   "id": "783729fc",
   "metadata": {},
   "source": [
    "### Задача 9(Числа Фибоначчи). \n",
    "Напишите функцию **fib**, которая возвращает n-ное число Фибоначчи. Используейте рекурсию!"
   ]
  },
  {
   "cell_type": "code",
   "execution_count": 5,
   "id": "51d9ee8f",
   "metadata": {},
   "outputs": [
    {
     "ename": "IndentationError",
     "evalue": "expected an indented block (1798929870.py, line 5)",
     "output_type": "error",
     "traceback": [
      "\u001b[1;36m  File \u001b[1;32m\"C:\\Users\\79826\\AppData\\Local\\Temp\\ipykernel_11136\\1798929870.py\"\u001b[1;36m, line \u001b[1;32m5\u001b[0m\n\u001b[1;33m    print(fib_rec(10))\u001b[0m\n\u001b[1;37m    ^\u001b[0m\n\u001b[1;31mIndentationError\u001b[0m\u001b[1;31m:\u001b[0m expected an indented block\n"
     ]
    }
   ],
   "source": [
    "def fib_rec(n):\n",
    "    # код\n",
    "print(fib_rec(10))"
   ]
  },
  {
   "cell_type": "markdown",
   "id": "1d1d825e",
   "metadata": {},
   "source": [
    "Обратите внимание, что код с помощью рекурсии выглядит немного компактнее. "
   ]
  },
  {
   "cell_type": "markdown",
   "id": "7d77ef33",
   "metadata": {},
   "source": [
    "### Задача 10(*)\n",
    "\n",
    "Алгоритм сортировки слиянием:\n",
    "\n",
    "1. Сортируемый массив(список) разбивается на две части примерно одинакового размера.\n",
    "2. Каждая из получившихся частей сортируется отдельно, можно той же сортировкой.\n",
    "3. Рекурсивное разбиение задачи на меньшие происходит до тех пор, пока размер массива не достигнет единицы(или определённого выбранного значения)\n",
    "4. Два упорядоченных массива половинного размера соединяются в один отсортированный массив, также рекурсивным образом.\n",
    "\n",
    "Рассмотрим пример. Пусть дан массив **[5, 3, 8, 4, 1, 7, 2, 6]**.\n",
    "1. Разбиваем массив на два подмассива: **[5, 3, 8, 4] и [1, 7, 2, 6]**\n",
    "2. Каждый подмассив разбиваем на ещё два подмассива: **[5, 3] и [8, 4] и [1, 7] и [2, 6]**\n",
    "3. Повторяем процедуру ещё раз: **[5] и [3] и [8] и [4] и [1] и [7] и [2] и [6]**\n",
    "4. Соединяем наши подмассивы в отсортированные под массивы: **[3, 5] и [4, 8] и [1, 7] и [2, 6]**\n",
    "5. Продолжаем наши действия рекурсивно.\n",
    "\n",
    "Реализуйте сортировку слиянием, используя рекурсию."
   ]
  },
  {
   "cell_type": "code",
   "execution_count": null,
   "id": "3aa074b3",
   "metadata": {},
   "outputs": [],
   "source": [
    "from random import randint\n",
    "n = 50\n",
    "a = []\n",
    "# создаём список из 50 элементов со случ. числами от 1 до 100.\n",
    "for i in range(n):\n",
    "    a.append(randint(1, 100))\n",
    "print(a)\n",
    "# ваша сортировка:"
   ]
  },
  {
   "cell_type": "markdown",
   "id": "f4501f2d",
   "metadata": {},
   "source": [
    "Подумайте, сколько сравнений будет совершенно в худшем случае.\n",
    "\n",
    "**Ваш ответ:**\n",
    "\n",
    "Посчитайте сколько сравнений совершает ваш алгоритм. \n",
    "\n",
    "**Ваш ответ:**\n",
    "\n",
    "Подумайте, сколько сравнений будет совершенно в лучшем случае.\n",
    "\n",
    "**Ваш ответ:**\n",
    "\n",
    "Сравните полученные результаты с сортировкой пузырьком"
   ]
  },
  {
   "cell_type": "markdown",
   "id": "9ec1f5e8",
   "metadata": {},
   "source": [
    "## Функция map"
   ]
  },
  {
   "cell_type": "markdown",
   "id": "334decc7",
   "metadata": {},
   "source": [
    "Вспомним, что такое **map** в Python. Это функция, принимающая другую функцию и несколько итерируемых объектов (возможно и один объект) и применяет полученную функцию к элементам итерируемых объектов, возвращая объект map.\n",
    "\n",
    "Объект map является итератором и содержит в себе результаты \"неявно\". Результаты можно \"достать\" из итератора, преобразовать его в коллекцию (list, set и т.д)\n",
    "\n",
    "Рассмотрим простой пример работы с map:"
   ]
  },
  {
   "cell_type": "code",
   "execution_count": 17,
   "id": "9433d5b5",
   "metadata": {},
   "outputs": [
    {
     "data": {
      "text/plain": [
       "str"
      ]
     },
     "execution_count": 17,
     "metadata": {},
     "output_type": "execute_result"
    }
   ],
   "source": [
    "# Создамим список, элементами которого являются строки\n",
    "s = []\n",
    "for i in range(1000000):\n",
    "    s.append(str(i))\n",
    "# Убедимся, что элементами списка являются переменные типа str\n",
    "type(s[1])"
   ]
  },
  {
   "cell_type": "code",
   "execution_count": 18,
   "id": "3ad8af58",
   "metadata": {},
   "outputs": [
    {
     "name": "stdout",
     "output_type": "stream",
     "text": [
      "map выполняется за: 19.74245047569275\n"
     ]
    }
   ],
   "source": [
    "from time import time\n",
    "# Чтобы создать список int из исходного списка достаточно написать:\n",
    "now = time()\n",
    "new_s = list(map(int, s))\n",
    "print('map выполняется за:', time() - now)"
   ]
  },
  {
   "cell_type": "markdown",
   "id": "7f5558f8",
   "metadata": {},
   "source": [
    "### Задача 11\n",
    "Создайте список без использования map, а с использованием цикла. Расчитайте время выполнения операций. Сравните \n",
    "время с выполнением map."
   ]
  },
  {
   "cell_type": "code",
   "execution_count": null,
   "id": "9dde43bb",
   "metadata": {},
   "outputs": [],
   "source": []
  },
  {
   "cell_type": "markdown",
   "id": "df382531",
   "metadata": {},
   "source": [
    "## 5. Множества и словари"
   ]
  },
  {
   "cell_type": "markdown",
   "id": "9e417150",
   "metadata": {},
   "source": [
    "Повторим несколько базовых вещей, связанных с множествами. Set — это коллекция уникальных объектов.\n",
    "```python\n",
    "1. Создание множества : s = {1, 5, 9} или\n",
    "2. Добавление элемента: s.add(new_element)\n",
    "3. Добавление нескольких элементов: s.add((new_element1, new_element2))\n",
    "4. Удаление элемента: s.remove(element)\n",
    "```"
   ]
  },
  {
   "cell_type": "code",
   "execution_count": 7,
   "id": "c4e15201",
   "metadata": {},
   "outputs": [
    {
     "name": "stdout",
     "output_type": "stream",
     "text": [
      "{1, 2, 3, 4}\n"
     ]
    }
   ],
   "source": [
    "# Объдинение множеств\n",
    "set1 = {1, 2}\n",
    "set2 = {3, 4}\n",
    "print(set1.union(set2))"
   ]
  },
  {
   "cell_type": "code",
   "execution_count": 9,
   "id": "6111ed1f",
   "metadata": {},
   "outputs": [
    {
     "name": "stdout",
     "output_type": "stream",
     "text": [
      "{3, 4, 5, 6}\n"
     ]
    }
   ],
   "source": [
    "# Разность множеств\n",
    "set1 = {1, 2, 3, 4, 5, 6}\n",
    "set2 = {3, 4, 5, 6, 7, 8}\n",
    "print(set1.difference(set2))"
   ]
  },
  {
   "cell_type": "code",
   "execution_count": 10,
   "id": "cecb0f46",
   "metadata": {},
   "outputs": [
    {
     "name": "stdout",
     "output_type": "stream",
     "text": [
      "{3, 4, 5, 6}\n"
     ]
    }
   ],
   "source": [
    "# Пересечение множеств\n",
    "set1 = {1, 2, 3, 4, 5, 6}\n",
    "set2 = {3, 4, 5, 6, 7, 8}\n",
    "print(set1.intersection(set2))"
   ]
  },
  {
   "cell_type": "code",
   "execution_count": 12,
   "id": "290379d5",
   "metadata": {
    "scrolled": true
   },
   "outputs": [
    {
     "name": "stdout",
     "output_type": "stream",
     "text": [
      "True\n",
      "False\n"
     ]
    }
   ],
   "source": [
    "# Проверка вхождения элемента в множество\n",
    "print(1 in set1)\n",
    "print(10 in set1)"
   ]
  },
  {
   "cell_type": "markdown",
   "id": "a2906dc9",
   "metadata": {},
   "source": [
    "### Задача 12"
   ]
  },
  {
   "cell_type": "markdown",
   "id": "40336ed4",
   "metadata": {},
   "source": [
    "На вход программе подается строка, которая состоящая из цифр.\n",
    "Необходимо определить, верно ли, что в ее записи ни одна из цифр не повторяется.\n",
    "\n",
    "**Подсказка:** используйте len()"
   ]
  },
  {
   "cell_type": "code",
   "execution_count": null,
   "id": "5f2be9c6",
   "metadata": {},
   "outputs": [],
   "source": []
  },
  {
   "cell_type": "markdown",
   "id": "861f279f",
   "metadata": {},
   "source": [
    "### Задача 13\n",
    "Напишите программу, которая принимает на вход две строки текста, содержащие числа и выводит все числа в порядке возрастания, которые есть в первой строке, но отсутствуют во второй."
   ]
  },
  {
   "cell_type": "code",
   "execution_count": null,
   "id": "cdfb835d",
   "metadata": {},
   "outputs": [],
   "source": []
  },
  {
   "cell_type": "markdown",
   "id": "34630093",
   "metadata": {},
   "source": [
    "Повторим несколько базовых вещей, связанных со словарями. Словарь — неупорядоченная структура данных,\n",
    "которая позволяет хранить пары ключ — значение."
   ]
  },
  {
   "cell_type": "code",
   "execution_count": 25,
   "id": "544285da",
   "metadata": {},
   "outputs": [
    {
     "name": "stdout",
     "output_type": "stream",
     "text": [
      "цена Book1 : 100\n"
     ]
    }
   ],
   "source": [
    "# Создадим словарь, содержащий название книги и её цену\n",
    "dictionary = {'Book1': 100, 'Book2': 200, 'Book3' : 400, 'Book4': 50}\n",
    "# Получим значеник конкретного ключа(цену книги, зная её название)\n",
    "print(\"цена Book1 :\", dictionary['Book1'])\n",
    "# Добавим новую книгу и её цену\n",
    "dictionary['Book5'] = 1000\n",
    "# Удалим книгу с ценой 200\n",
    "del dictionary['Book2']"
   ]
  },
  {
   "cell_type": "markdown",
   "id": "57a59106",
   "metadata": {},
   "source": [
    "Больше о методах словаря можно почитать здесь https://www.geeksforgeeks.org/python-dictionary-methods/.\n",
    "    "
   ]
  },
  {
   "cell_type": "markdown",
   "id": "e64466f9",
   "metadata": {},
   "source": [
    "Вспомнив базовые вещи, мы можем перейти к решению нескольких интересных задач. "
   ]
  },
  {
   "cell_type": "markdown",
   "id": "caff1d90",
   "metadata": {},
   "source": [
    "### Задача 14 (коэффициент Жаккара)"
   ]
  },
  {
   "cell_type": "markdown",
   "id": "53dd1273",
   "metadata": {},
   "source": [
    "Пусть есть два множества A и B. Коэффициент Жаккара $ = \\frac{c}{a + b - c}.$\n",
    "\n",
    "1. $c$ - количество элементов, общих для множества A и B\n",
    "2. $a$ и $b$ - количество элементов множества A и B соответственно\n",
    "\n",
    "Т.е коэффициент Жаккара есть отношение пересечения множеств к их объединению. "
   ]
  },
  {
   "cell_type": "code",
   "execution_count": 31,
   "id": "63bcf575",
   "metadata": {},
   "outputs": [],
   "source": [
    "l1 = [1, 2, 3, 4, 5, 6, 7, 8, 9, 0]\n",
    "l2 = [2, 2, 4, 5, 5, 6, 6, 8, 8, 0]\n",
    "l3 = [2, 2, 8, 9, 4, 1, 5, 12, 13, 7]\n",
    "l4 = [2, 0, 1, 7, 6, 6, 6, 8, 8, 8]\n",
    "l5 = [0, 2, 5, 5, 5, 6, 5, 8, 8, 8]"
   ]
  },
  {
   "cell_type": "markdown",
   "id": "b1eb84ab",
   "metadata": {},
   "source": [
    "Реализуйте функцию, вычисляющую коэффициент Жаккара между двумя множествами(списками). Какие из двух списков имеют максимальный коэффициент."
   ]
  },
  {
   "cell_type": "code",
   "execution_count": null,
   "id": "59d3f9ae",
   "metadata": {},
   "outputs": [],
   "source": []
  },
  {
   "cell_type": "markdown",
   "id": "77e642f7",
   "metadata": {},
   "source": [
    "### Задача 15(Решето Эратосфена)"
   ]
  },
  {
   "cell_type": "markdown",
   "id": "60aea385",
   "metadata": {},
   "source": [
    "Решето Эратосфена – это алгоритм нахождения простых чисел до заданного натурального \n",
    "числа путем постепенного отсеивания составных чисел. Алгоритм заключается в следующем:\n",
    "\n",
    "1. Выписать подряд все целые числа от двух до n.\n",
    "2. Пусть переменная k изначально равна двум — первому простому числу.\n",
    "3. Зачеркнуть в списке числа от 2k до n, считая шагами по k (это будут числа, кратные k: 2k, 3k …).\n",
    "4. Найти первое незачёркнутое число в списке, большее чем k, и присвоить значению переменной k это число.\n",
    "5. Повторять шаги 3 и 4, пока возможно.\n",
    "\n",
    "Все незачёркнутые числа в списке — это все простые числа от 2 до n.\n",
    "\n",
    "Реализуйте Решето Эратосфена и найдите все простые числа до 10000 включительно. "
   ]
  },
  {
   "cell_type": "code",
   "execution_count": null,
   "id": "27672351",
   "metadata": {},
   "outputs": [],
   "source": []
  },
  {
   "cell_type": "markdown",
   "id": "80ee5915",
   "metadata": {},
   "source": [
    "## itertools"
   ]
  },
  {
   "cell_type": "markdown",
   "id": "347e3d2f",
   "metadata": {},
   "source": [
    "Импортируем библиотеку **itertools**.\n",
    "\n",
    "Данный ниже код, как можно наблюдать, позволяет вывести всевозможные сочетания трёх элементов из 5-ти элементного множества(A, B, C, D, F)."
   ]
  },
  {
   "cell_type": "code",
   "execution_count": 2,
   "id": "149ca107",
   "metadata": {},
   "outputs": [
    {
     "name": "stdout",
     "output_type": "stream",
     "text": [
      "ABC ABD ABF ACB ACD ACF ADB ADC ADF AFB AFC AFD BAC BAD BAF BCA BCD BCF BDA BDC BDF BFA BFC BFD CAB CAD CAF CBA CBD CBF CDA CDB CDF CFA CFB CFD DAB DAC DAF DBA DBC DBF DCA DCB DCF DFA DFB DFC FAB FAC FAD FBA FBC FBD FCA FCB FCD FDA FDB FDC "
     ]
    }
   ],
   "source": [
    "import itertools as it\n",
    "for x, y, z in it.permutations(\"ABCDF\", 3):\n",
    "    print(x, y, z, sep='', end=' ')"
   ]
  },
  {
   "cell_type": "markdown",
   "id": "8c130918",
   "metadata": {},
   "source": [
    "### Задача 16\n",
    "Витя выбирает 3 предмета, которые он будет сдавать на ЕГЭ. Всего предметов 10. Сколько всего сочетаний предметов он может выбрать?\n",
    "\n",
    "Решите задачу, используя **it.permutation**"
   ]
  },
  {
   "cell_type": "code",
   "execution_count": null,
   "id": "518558c2",
   "metadata": {},
   "outputs": [],
   "source": []
  },
  {
   "cell_type": "markdown",
   "id": "b723a90c",
   "metadata": {},
   "source": [
    "Рассмотрите пример с it.product. Проанализируйте его работу."
   ]
  },
  {
   "cell_type": "code",
   "execution_count": 3,
   "id": "6f73f52a",
   "metadata": {},
   "outputs": [
    {
     "name": "stdout",
     "output_type": "stream",
     "text": [
      "1 A\n",
      "1 B\n",
      "1 C\n",
      "2 A\n",
      "2 B\n",
      "2 C\n",
      "3 A\n",
      "3 B\n",
      "3 C\n"
     ]
    }
   ],
   "source": [
    "for x, y in it.product(\"123\", \"ABC\"):\n",
    "    print(x, y)"
   ]
  },
  {
   "cell_type": "markdown",
   "id": "29e130d6",
   "metadata": {},
   "source": [
    "### Задача 17\n",
    "\n",
    "Два вектора представлены списками. Вычислите их скалярное произведение, используя **it.product**."
   ]
  },
  {
   "cell_type": "code",
   "execution_count": 4,
   "id": "40d6489b",
   "metadata": {},
   "outputs": [],
   "source": [
    "a = [1, 5, 3, 7, 8] # вектор 1\n",
    "b = [2, 3, 2, 1, 0] # вектор 2"
   ]
  },
  {
   "cell_type": "code",
   "execution_count": null,
   "id": "7801a572",
   "metadata": {},
   "outputs": [],
   "source": []
  }
 ],
 "metadata": {
  "kernelspec": {
   "display_name": "Python 3 (ipykernel)",
   "language": "python",
   "name": "python3"
  },
  "language_info": {
   "codemirror_mode": {
    "name": "ipython",
    "version": 3
   },
   "file_extension": ".py",
   "mimetype": "text/x-python",
   "name": "python",
   "nbconvert_exporter": "python",
   "pygments_lexer": "ipython3",
   "version": "3.9.13"
  }
 },
 "nbformat": 4,
 "nbformat_minor": 5
}
